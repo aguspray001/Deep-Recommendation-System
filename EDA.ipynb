{
  "nbformat": 4,
  "nbformat_minor": 0,
  "metadata": {
    "colab": {
      "name": "EDA",
      "provenance": [],
      "authorship_tag": "ABX9TyNxQQhBEWB0TsT1pK/p3YF7",
      "include_colab_link": true
    },
    "kernelspec": {
      "name": "python3",
      "display_name": "Python 3"
    }
  },
  "cells": [
    {
      "cell_type": "markdown",
      "metadata": {
        "id": "view-in-github",
        "colab_type": "text"
      },
      "source": [
        "<a href=\"https://colab.research.google.com/github/aguspray001/Deep-Recommendation-System/blob/main/EDA.ipynb\" target=\"_parent\"><img src=\"https://colab.research.google.com/assets/colab-badge.svg\" alt=\"Open In Colab\"/></a>"
      ]
    },
    {
      "cell_type": "markdown",
      "metadata": {
        "id": "nXELEHZILh1i"
      },
      "source": [
        "## **EDA and Insight**"
      ]
    },
    {
      "cell_type": "code",
      "metadata": {
        "id": "45aj8fdqLbt7",
        "outputId": "9e27152a-4493-40a9-f32f-571118d79215",
        "colab": {
          "base_uri": "https://localhost:8080/",
          "height": 34
        }
      },
      "source": [
        "from google.colab import drive\n",
        "\n",
        "drive.mount(\"/content/drive\", force_remount=True)"
      ],
      "execution_count": 2,
      "outputs": [
        {
          "output_type": "stream",
          "text": [
            "Mounted at /content/drive\n"
          ],
          "name": "stdout"
        }
      ]
    },
    {
      "cell_type": "code",
      "metadata": {
        "id": "gOP8Eun1Loq7"
      },
      "source": [
        "import pandas as pd\n",
        "import matplotlib.pyplot as plt\n",
        "import numpy as np\n",
        "import seaborn as sns\n",
        "%matplotlib inline"
      ],
      "execution_count": 3,
      "outputs": []
    },
    {
      "cell_type": "code",
      "metadata": {
        "id": "2YRxRnYcMA0w"
      },
      "source": [
        "olist_customers = pd.read_csv(\"/content/drive/Shared drives/DS Workshop/Datasets/Origin/olist_customers_dataset.csv\")\n",
        "olist_order_items = pd.read_csv(\"/content/drive/Shared drives/DS Workshop/Datasets/Origin/olist_order_items_dataset.csv\")\n",
        "olist_order_payments = pd.read_csv(\"/content/drive/Shared drives/DS Workshop/Datasets/Origin/olist_order_payments_dataset.csv\")\n",
        "olist_order_reviews = pd.read_csv(\"/content/drive/Shared drives/DS Workshop/Datasets/Origin/olist_order_reviews_dataset.csv\")\n",
        "olist_orders = pd.read_csv(\"/content/drive/Shared drives/DS Workshop/Datasets/Origin/olist_orders_dataset.csv\")\n",
        "olist_products = pd.read_csv(\"/content/drive/Shared drives/DS Workshop/Datasets/Origin/olist_products_dataset.csv\")\n",
        "olist_sellers = pd.read_csv(\"/content/drive/Shared drives/DS Workshop/Datasets/Origin/olist_sellers_dataset.csv\")\n",
        "product_category_name = pd.read_csv(\"/content/drive/Shared drives/DS Workshop/Datasets/Origin/product_category_name_translation.csv\")"
      ],
      "execution_count": 4,
      "outputs": []
    },
    {
      "cell_type": "markdown",
      "metadata": {
        "id": "C1DYebNJNfF8"
      },
      "source": [
        "**Handling null values**"
      ]
    },
    {
      "cell_type": "code",
      "metadata": {
        "id": "8HWlnAZnMDgw"
      },
      "source": [
        "review_item_merge = olist_order_reviews.merge(olist_order_items, on= \"order_id\", how = \"outer\")"
      ],
      "execution_count": 5,
      "outputs": []
    },
    {
      "cell_type": "code",
      "metadata": {
        "id": "OTUaveLhMwAg",
        "outputId": "70d8a2d9-4fa9-4048-9f2f-df711f47b485",
        "colab": {
          "base_uri": "https://localhost:8080/",
          "height": 372
        }
      },
      "source": [
        "review_item_merge.info()"
      ],
      "execution_count": 6,
      "outputs": [
        {
          "output_type": "stream",
          "text": [
            "<class 'pandas.core.frame.DataFrame'>\n",
            "Int64Index: 114100 entries, 0 to 114099\n",
            "Data columns (total 13 columns):\n",
            " #   Column                   Non-Null Count   Dtype  \n",
            "---  ------                   --------------   -----  \n",
            " 0   review_id                114100 non-null  object \n",
            " 1   order_id                 114100 non-null  object \n",
            " 2   review_score             114100 non-null  int64  \n",
            " 3   review_comment_title     13714 non-null   object \n",
            " 4   review_comment_message   49135 non-null   object \n",
            " 5   review_creation_date     114100 non-null  object \n",
            " 6   review_answer_timestamp  114100 non-null  object \n",
            " 7   order_item_id            113322 non-null  float64\n",
            " 8   product_id               113322 non-null  object \n",
            " 9   seller_id                113322 non-null  object \n",
            " 10  shipping_limit_date      113322 non-null  object \n",
            " 11  price                    113322 non-null  float64\n",
            " 12  freight_value            113322 non-null  float64\n",
            "dtypes: float64(3), int64(1), object(9)\n",
            "memory usage: 12.2+ MB\n"
          ],
          "name": "stdout"
        }
      ]
    },
    {
      "cell_type": "code",
      "metadata": {
        "id": "xfjeMXhPMzik",
        "outputId": "86e7a77d-e03c-41b7-a4e2-1517802ee816",
        "colab": {
          "base_uri": "https://localhost:8080/",
          "height": 34
        }
      },
      "source": [
        "price_median = review_item_merge[\"price\"].median()\n",
        "price_median"
      ],
      "execution_count": 7,
      "outputs": [
        {
          "output_type": "execute_result",
          "data": {
            "text/plain": [
              "74.9"
            ]
          },
          "metadata": {
            "tags": []
          },
          "execution_count": 7
        }
      ]
    },
    {
      "cell_type": "code",
      "metadata": {
        "id": "C77Sd30RNEp5"
      },
      "source": [
        "review_item_merge[\"price\"] = review_item_merge[\"price\"].fillna(price_median)"
      ],
      "execution_count": 8,
      "outputs": []
    },
    {
      "cell_type": "code",
      "metadata": {
        "id": "AGTN5afvNN-q",
        "outputId": "9cd2dc90-92fc-4fb5-ff4f-6889185cea87",
        "colab": {
          "base_uri": "https://localhost:8080/",
          "height": 372
        }
      },
      "source": [
        "review_item_merge.info()"
      ],
      "execution_count": 9,
      "outputs": [
        {
          "output_type": "stream",
          "text": [
            "<class 'pandas.core.frame.DataFrame'>\n",
            "Int64Index: 114100 entries, 0 to 114099\n",
            "Data columns (total 13 columns):\n",
            " #   Column                   Non-Null Count   Dtype  \n",
            "---  ------                   --------------   -----  \n",
            " 0   review_id                114100 non-null  object \n",
            " 1   order_id                 114100 non-null  object \n",
            " 2   review_score             114100 non-null  int64  \n",
            " 3   review_comment_title     13714 non-null   object \n",
            " 4   review_comment_message   49135 non-null   object \n",
            " 5   review_creation_date     114100 non-null  object \n",
            " 6   review_answer_timestamp  114100 non-null  object \n",
            " 7   order_item_id            113322 non-null  float64\n",
            " 8   product_id               113322 non-null  object \n",
            " 9   seller_id                113322 non-null  object \n",
            " 10  shipping_limit_date      113322 non-null  object \n",
            " 11  price                    114100 non-null  float64\n",
            " 12  freight_value            113322 non-null  float64\n",
            "dtypes: float64(3), int64(1), object(9)\n",
            "memory usage: 12.2+ MB\n"
          ],
          "name": "stdout"
        }
      ]
    },
    {
      "cell_type": "markdown",
      "metadata": {
        "id": "Ykgf7wUjNykb"
      },
      "source": [
        "# **Check dropshiper**"
      ]
    },
    {
      "cell_type": "code",
      "metadata": {
        "id": "-OVfNca5NQbO",
        "outputId": "a0e4746f-a490-47dc-955c-8eef2d95231c",
        "colab": {
          "base_uri": "https://localhost:8080/",
          "height": 234
        }
      },
      "source": [
        "order_item_merge  = olist_order_items.merge(olist_orders, on = \"order_id\" , how = \"inner\")\n",
        "order_item_customers_merge = order_item_merge.merge(olist_customers, on = \"customer_id\", how = \"inner\")\n",
        "order_item_customers_merge.head()"
      ],
      "execution_count": 13,
      "outputs": [
        {
          "output_type": "execute_result",
          "data": {
            "text/html": [
              "<div>\n",
              "<style scoped>\n",
              "    .dataframe tbody tr th:only-of-type {\n",
              "        vertical-align: middle;\n",
              "    }\n",
              "\n",
              "    .dataframe tbody tr th {\n",
              "        vertical-align: top;\n",
              "    }\n",
              "\n",
              "    .dataframe thead th {\n",
              "        text-align: right;\n",
              "    }\n",
              "</style>\n",
              "<table border=\"1\" class=\"dataframe\">\n",
              "  <thead>\n",
              "    <tr style=\"text-align: right;\">\n",
              "      <th></th>\n",
              "      <th>order_id</th>\n",
              "      <th>order_item_id</th>\n",
              "      <th>product_id</th>\n",
              "      <th>seller_id</th>\n",
              "      <th>shipping_limit_date</th>\n",
              "      <th>price</th>\n",
              "      <th>freight_value</th>\n",
              "      <th>customer_id</th>\n",
              "      <th>order_status</th>\n",
              "      <th>order_purchase_timestamp</th>\n",
              "      <th>order_approved_at</th>\n",
              "      <th>order_delivered_carrier_date</th>\n",
              "      <th>order_delivered_customer_date</th>\n",
              "      <th>order_estimated_delivery_date</th>\n",
              "      <th>customer_unique_id</th>\n",
              "      <th>customer_zip_code_prefix</th>\n",
              "      <th>customer_city</th>\n",
              "      <th>customer_state</th>\n",
              "    </tr>\n",
              "  </thead>\n",
              "  <tbody>\n",
              "    <tr>\n",
              "      <th>0</th>\n",
              "      <td>00010242fe8c5a6d1ba2dd792cb16214</td>\n",
              "      <td>1</td>\n",
              "      <td>4244733e06e7ecb4970a6e2683c13e61</td>\n",
              "      <td>48436dade18ac8b2bce089ec2a041202</td>\n",
              "      <td>2017-09-19 09:45:35</td>\n",
              "      <td>58.90</td>\n",
              "      <td>13.29</td>\n",
              "      <td>3ce436f183e68e07877b285a838db11a</td>\n",
              "      <td>delivered</td>\n",
              "      <td>2017-09-13 08:59:02</td>\n",
              "      <td>2017-09-13 09:45:35</td>\n",
              "      <td>2017-09-19 18:34:16</td>\n",
              "      <td>2017-09-20 23:43:48</td>\n",
              "      <td>2017-09-29 00:00:00</td>\n",
              "      <td>871766c5855e863f6eccc05f988b23cb</td>\n",
              "      <td>28013</td>\n",
              "      <td>campos dos goytacazes</td>\n",
              "      <td>RJ</td>\n",
              "    </tr>\n",
              "    <tr>\n",
              "      <th>1</th>\n",
              "      <td>00018f77f2f0320c557190d7a144bdd3</td>\n",
              "      <td>1</td>\n",
              "      <td>e5f2d52b802189ee658865ca93d83a8f</td>\n",
              "      <td>dd7ddc04e1b6c2c614352b383efe2d36</td>\n",
              "      <td>2017-05-03 11:05:13</td>\n",
              "      <td>239.90</td>\n",
              "      <td>19.93</td>\n",
              "      <td>f6dd3ec061db4e3987629fe6b26e5cce</td>\n",
              "      <td>delivered</td>\n",
              "      <td>2017-04-26 10:53:06</td>\n",
              "      <td>2017-04-26 11:05:13</td>\n",
              "      <td>2017-05-04 14:35:00</td>\n",
              "      <td>2017-05-12 16:04:24</td>\n",
              "      <td>2017-05-15 00:00:00</td>\n",
              "      <td>eb28e67c4c0b83846050ddfb8a35d051</td>\n",
              "      <td>15775</td>\n",
              "      <td>santa fe do sul</td>\n",
              "      <td>SP</td>\n",
              "    </tr>\n",
              "    <tr>\n",
              "      <th>2</th>\n",
              "      <td>000229ec398224ef6ca0657da4fc703e</td>\n",
              "      <td>1</td>\n",
              "      <td>c777355d18b72b67abbeef9df44fd0fd</td>\n",
              "      <td>5b51032eddd242adc84c38acab88f23d</td>\n",
              "      <td>2018-01-18 14:48:30</td>\n",
              "      <td>199.00</td>\n",
              "      <td>17.87</td>\n",
              "      <td>6489ae5e4333f3693df5ad4372dab6d3</td>\n",
              "      <td>delivered</td>\n",
              "      <td>2018-01-14 14:33:31</td>\n",
              "      <td>2018-01-14 14:48:30</td>\n",
              "      <td>2018-01-16 12:36:48</td>\n",
              "      <td>2018-01-22 13:19:16</td>\n",
              "      <td>2018-02-05 00:00:00</td>\n",
              "      <td>3818d81c6709e39d06b2738a8d3a2474</td>\n",
              "      <td>35661</td>\n",
              "      <td>para de minas</td>\n",
              "      <td>MG</td>\n",
              "    </tr>\n",
              "    <tr>\n",
              "      <th>3</th>\n",
              "      <td>00024acbcdf0a6daa1e931b038114c75</td>\n",
              "      <td>1</td>\n",
              "      <td>7634da152a4610f1595efa32f14722fc</td>\n",
              "      <td>9d7a1d34a5052409006425275ba1c2b4</td>\n",
              "      <td>2018-08-15 10:10:18</td>\n",
              "      <td>12.99</td>\n",
              "      <td>12.79</td>\n",
              "      <td>d4eb9395c8c0431ee92fce09860c5a06</td>\n",
              "      <td>delivered</td>\n",
              "      <td>2018-08-08 10:00:35</td>\n",
              "      <td>2018-08-08 10:10:18</td>\n",
              "      <td>2018-08-10 13:28:00</td>\n",
              "      <td>2018-08-14 13:32:39</td>\n",
              "      <td>2018-08-20 00:00:00</td>\n",
              "      <td>af861d436cfc08b2c2ddefd0ba074622</td>\n",
              "      <td>12952</td>\n",
              "      <td>atibaia</td>\n",
              "      <td>SP</td>\n",
              "    </tr>\n",
              "    <tr>\n",
              "      <th>4</th>\n",
              "      <td>00042b26cf59d7ce69dfabb4e55b4fd9</td>\n",
              "      <td>1</td>\n",
              "      <td>ac6c3623068f30de03045865e4e10089</td>\n",
              "      <td>df560393f3a51e74553ab94004ba5c87</td>\n",
              "      <td>2017-02-13 13:57:51</td>\n",
              "      <td>199.90</td>\n",
              "      <td>18.14</td>\n",
              "      <td>58dbd0b2d70206bf40e62cd34e84d795</td>\n",
              "      <td>delivered</td>\n",
              "      <td>2017-02-04 13:57:51</td>\n",
              "      <td>2017-02-04 14:10:13</td>\n",
              "      <td>2017-02-16 09:46:09</td>\n",
              "      <td>2017-03-01 16:42:31</td>\n",
              "      <td>2017-03-17 00:00:00</td>\n",
              "      <td>64b576fb70d441e8f1b2d7d446e483c5</td>\n",
              "      <td>13226</td>\n",
              "      <td>varzea paulista</td>\n",
              "      <td>SP</td>\n",
              "    </tr>\n",
              "  </tbody>\n",
              "</table>\n",
              "</div>"
            ],
            "text/plain": [
              "                           order_id  ...  customer_state\n",
              "0  00010242fe8c5a6d1ba2dd792cb16214  ...              RJ\n",
              "1  00018f77f2f0320c557190d7a144bdd3  ...              SP\n",
              "2  000229ec398224ef6ca0657da4fc703e  ...              MG\n",
              "3  00024acbcdf0a6daa1e931b038114c75  ...              SP\n",
              "4  00042b26cf59d7ce69dfabb4e55b4fd9  ...              SP\n",
              "\n",
              "[5 rows x 18 columns]"
            ]
          },
          "metadata": {
            "tags": []
          },
          "execution_count": 13
        }
      ]
    },
    {
      "cell_type": "code",
      "metadata": {
        "id": "en0zqG2cObzY"
      },
      "source": [
        "order_item_merge_grouped = order_item_customers_merge.groupby([\"customer_unique_id\", \"order_id\"]).count()"
      ],
      "execution_count": 14,
      "outputs": []
    },
    {
      "cell_type": "code",
      "metadata": {
        "id": "G6TR_8eFPaP-",
        "outputId": "8bf8ce20-51b0-466d-8c1c-5ed0539c2188",
        "colab": {
          "base_uri": "https://localhost:8080/",
          "height": 247
        }
      },
      "source": [
        "order_item_merge_grouped.head()"
      ],
      "execution_count": 15,
      "outputs": [
        {
          "output_type": "execute_result",
          "data": {
            "text/html": [
              "<div>\n",
              "<style scoped>\n",
              "    .dataframe tbody tr th:only-of-type {\n",
              "        vertical-align: middle;\n",
              "    }\n",
              "\n",
              "    .dataframe tbody tr th {\n",
              "        vertical-align: top;\n",
              "    }\n",
              "\n",
              "    .dataframe thead th {\n",
              "        text-align: right;\n",
              "    }\n",
              "</style>\n",
              "<table border=\"1\" class=\"dataframe\">\n",
              "  <thead>\n",
              "    <tr style=\"text-align: right;\">\n",
              "      <th></th>\n",
              "      <th></th>\n",
              "      <th>order_item_id</th>\n",
              "      <th>product_id</th>\n",
              "      <th>seller_id</th>\n",
              "      <th>shipping_limit_date</th>\n",
              "      <th>price</th>\n",
              "      <th>freight_value</th>\n",
              "      <th>customer_id</th>\n",
              "      <th>order_status</th>\n",
              "      <th>order_purchase_timestamp</th>\n",
              "      <th>order_approved_at</th>\n",
              "      <th>order_delivered_carrier_date</th>\n",
              "      <th>order_delivered_customer_date</th>\n",
              "      <th>order_estimated_delivery_date</th>\n",
              "      <th>customer_zip_code_prefix</th>\n",
              "      <th>customer_city</th>\n",
              "      <th>customer_state</th>\n",
              "    </tr>\n",
              "    <tr>\n",
              "      <th>customer_unique_id</th>\n",
              "      <th>order_id</th>\n",
              "      <th></th>\n",
              "      <th></th>\n",
              "      <th></th>\n",
              "      <th></th>\n",
              "      <th></th>\n",
              "      <th></th>\n",
              "      <th></th>\n",
              "      <th></th>\n",
              "      <th></th>\n",
              "      <th></th>\n",
              "      <th></th>\n",
              "      <th></th>\n",
              "      <th></th>\n",
              "      <th></th>\n",
              "      <th></th>\n",
              "      <th></th>\n",
              "    </tr>\n",
              "  </thead>\n",
              "  <tbody>\n",
              "    <tr>\n",
              "      <th>0000366f3b9a7992bf8c76cfdf3221e2</th>\n",
              "      <th>e22acc9c116caa3f2b7121bbb380d08e</th>\n",
              "      <td>1</td>\n",
              "      <td>1</td>\n",
              "      <td>1</td>\n",
              "      <td>1</td>\n",
              "      <td>1</td>\n",
              "      <td>1</td>\n",
              "      <td>1</td>\n",
              "      <td>1</td>\n",
              "      <td>1</td>\n",
              "      <td>1</td>\n",
              "      <td>1</td>\n",
              "      <td>1</td>\n",
              "      <td>1</td>\n",
              "      <td>1</td>\n",
              "      <td>1</td>\n",
              "      <td>1</td>\n",
              "    </tr>\n",
              "    <tr>\n",
              "      <th>0000b849f77a49e4a4ce2b2a4ca5be3f</th>\n",
              "      <th>3594e05a005ac4d06a72673270ef9ec9</th>\n",
              "      <td>1</td>\n",
              "      <td>1</td>\n",
              "      <td>1</td>\n",
              "      <td>1</td>\n",
              "      <td>1</td>\n",
              "      <td>1</td>\n",
              "      <td>1</td>\n",
              "      <td>1</td>\n",
              "      <td>1</td>\n",
              "      <td>1</td>\n",
              "      <td>1</td>\n",
              "      <td>1</td>\n",
              "      <td>1</td>\n",
              "      <td>1</td>\n",
              "      <td>1</td>\n",
              "      <td>1</td>\n",
              "    </tr>\n",
              "    <tr>\n",
              "      <th>0000f46a3911fa3c0805444483337064</th>\n",
              "      <th>b33ec3b699337181488304f362a6b734</th>\n",
              "      <td>1</td>\n",
              "      <td>1</td>\n",
              "      <td>1</td>\n",
              "      <td>1</td>\n",
              "      <td>1</td>\n",
              "      <td>1</td>\n",
              "      <td>1</td>\n",
              "      <td>1</td>\n",
              "      <td>1</td>\n",
              "      <td>1</td>\n",
              "      <td>1</td>\n",
              "      <td>1</td>\n",
              "      <td>1</td>\n",
              "      <td>1</td>\n",
              "      <td>1</td>\n",
              "      <td>1</td>\n",
              "    </tr>\n",
              "    <tr>\n",
              "      <th>0000f6ccb0745a6a4b88665a16c9f078</th>\n",
              "      <th>41272756ecddd9a9ed0180413cc22fb6</th>\n",
              "      <td>1</td>\n",
              "      <td>1</td>\n",
              "      <td>1</td>\n",
              "      <td>1</td>\n",
              "      <td>1</td>\n",
              "      <td>1</td>\n",
              "      <td>1</td>\n",
              "      <td>1</td>\n",
              "      <td>1</td>\n",
              "      <td>1</td>\n",
              "      <td>1</td>\n",
              "      <td>1</td>\n",
              "      <td>1</td>\n",
              "      <td>1</td>\n",
              "      <td>1</td>\n",
              "      <td>1</td>\n",
              "    </tr>\n",
              "    <tr>\n",
              "      <th>0004aac84e0df4da2b147fca70cf8255</th>\n",
              "      <th>d957021f1127559cd947b62533f484f7</th>\n",
              "      <td>1</td>\n",
              "      <td>1</td>\n",
              "      <td>1</td>\n",
              "      <td>1</td>\n",
              "      <td>1</td>\n",
              "      <td>1</td>\n",
              "      <td>1</td>\n",
              "      <td>1</td>\n",
              "      <td>1</td>\n",
              "      <td>1</td>\n",
              "      <td>1</td>\n",
              "      <td>1</td>\n",
              "      <td>1</td>\n",
              "      <td>1</td>\n",
              "      <td>1</td>\n",
              "      <td>1</td>\n",
              "    </tr>\n",
              "  </tbody>\n",
              "</table>\n",
              "</div>"
            ],
            "text/plain": [
              "                                                                   order_item_id  ...  customer_state\n",
              "customer_unique_id               order_id                                         ...                \n",
              "0000366f3b9a7992bf8c76cfdf3221e2 e22acc9c116caa3f2b7121bbb380d08e              1  ...               1\n",
              "0000b849f77a49e4a4ce2b2a4ca5be3f 3594e05a005ac4d06a72673270ef9ec9              1  ...               1\n",
              "0000f46a3911fa3c0805444483337064 b33ec3b699337181488304f362a6b734              1  ...               1\n",
              "0000f6ccb0745a6a4b88665a16c9f078 41272756ecddd9a9ed0180413cc22fb6              1  ...               1\n",
              "0004aac84e0df4da2b147fca70cf8255 d957021f1127559cd947b62533f484f7              1  ...               1\n",
              "\n",
              "[5 rows x 16 columns]"
            ]
          },
          "metadata": {
            "tags": []
          },
          "execution_count": 15
        }
      ]
    },
    {
      "cell_type": "code",
      "metadata": {
        "id": "b4Y6Qr3aPcuf",
        "outputId": "6d32b412-0cb3-4fa2-bf50-ce1536b01ba4",
        "colab": {
          "base_uri": "https://localhost:8080/",
          "height": 297
        }
      },
      "source": [
        "sns.histplot(order_item_merge_grouped[\"order_item_id\"], bins=30)"
      ],
      "execution_count": 18,
      "outputs": [
        {
          "output_type": "execute_result",
          "data": {
            "text/plain": [
              "<matplotlib.axes._subplots.AxesSubplot at 0x7fa4730823c8>"
            ]
          },
          "metadata": {
            "tags": []
          },
          "execution_count": 18
        },
        {
          "output_type": "display_data",
          "data": {
            "image/png": "[encoded data removed]",
            "text/plain": [
              "<Figure size 432x288 with 1 Axes>"
            ]
          },
          "metadata": {
            "tags": [],
            "needs_background": "light"
          }
        }
      ]
    },
    {
      "cell_type": "markdown",
      "metadata": {
        "id": "wpjf41ItP37j"
      },
      "source": [
        "Dari grafik di atas, diketahui bahwa grafik histogram menjulur ke kanan (distribution right skewed), hal ini menandakan ada yang membeli product lebih dari 1, bahkan hingga angka 20. kemungkinan ini mengindikasikan adanya dropshipper"
      ]
    },
    {
      "cell_type": "markdown",
      "metadata": {
        "id": "dZZk0b4uQSEo"
      },
      "source": [
        "Untuk menguji dropshipper, maka dibuatlah threshold jumlah product yg dibeli, apabila sesorang melebihi atau sama dengan jumlah threshold, maka ia adalah dropshipper."
      ]
    },
    {
      "cell_type": "code",
      "metadata": {
        "id": "S_8TjWr_Pt-p",
        "outputId": "3933fa38-56f3-4a32-9674-67f6699917ff",
        "colab": {
          "base_uri": "https://localhost:8080/",
          "height": 176
        }
      },
      "source": [
        "order_item_merge_grouped[\"product_id\"].quantile([0, 0.25, 0.5, 0.75, 0.90, 0.95, 0.99, 1])"
      ],
      "execution_count": 19,
      "outputs": [
        {
          "output_type": "execute_result",
          "data": {
            "text/plain": [
              "0.00     1.0\n",
              "0.25     1.0\n",
              "0.50     1.0\n",
              "0.75     1.0\n",
              "0.90     1.0\n",
              "0.95     2.0\n",
              "0.99     3.0\n",
              "1.00    21.0\n",
              "Name: product_id, dtype: float64"
            ]
          },
          "metadata": {
            "tags": []
          },
          "execution_count": 19
        }
      ]
    },
    {
      "cell_type": "markdown",
      "metadata": {
        "id": "BCyeAvsDQwNt"
      },
      "source": [
        "Berdasarkan data di atas, kita menggunakan nilai percentile 0.99 sebagai threshold yang akan mengindikasikan dropshipper"
      ]
    },
    {
      "cell_type": "code",
      "metadata": {
        "id": "rG6nfgTZQvE-",
        "outputId": "d85b2082-d2cb-4c4c-feec-c04286a9b948",
        "colab": {
          "base_uri": "https://localhost:8080/",
          "height": 217
        }
      },
      "source": [
        "order_item_merge_grouped.reset_index(inplace=True)\n",
        "order_item_merge_grouped.head()"
      ],
      "execution_count": 21,
      "outputs": [
        {
          "output_type": "execute_result",
          "data": {
            "text/html": [
              "<div>\n",
              "<style scoped>\n",
              "    .dataframe tbody tr th:only-of-type {\n",
              "        vertical-align: middle;\n",
              "    }\n",
              "\n",
              "    .dataframe tbody tr th {\n",
              "        vertical-align: top;\n",
              "    }\n",
              "\n",
              "    .dataframe thead th {\n",
              "        text-align: right;\n",
              "    }\n",
              "</style>\n",
              "<table border=\"1\" class=\"dataframe\">\n",
              "  <thead>\n",
              "    <tr style=\"text-align: right;\">\n",
              "      <th></th>\n",
              "      <th>customer_unique_id</th>\n",
              "      <th>order_id</th>\n",
              "      <th>order_item_id</th>\n",
              "      <th>product_id</th>\n",
              "      <th>seller_id</th>\n",
              "      <th>shipping_limit_date</th>\n",
              "      <th>price</th>\n",
              "      <th>freight_value</th>\n",
              "      <th>customer_id</th>\n",
              "      <th>order_status</th>\n",
              "      <th>order_purchase_timestamp</th>\n",
              "      <th>order_approved_at</th>\n",
              "      <th>order_delivered_carrier_date</th>\n",
              "      <th>order_delivered_customer_date</th>\n",
              "      <th>order_estimated_delivery_date</th>\n",
              "      <th>customer_zip_code_prefix</th>\n",
              "      <th>customer_city</th>\n",
              "      <th>customer_state</th>\n",
              "    </tr>\n",
              "  </thead>\n",
              "  <tbody>\n",
              "    <tr>\n",
              "      <th>0</th>\n",
              "      <td>0000366f3b9a7992bf8c76cfdf3221e2</td>\n",
              "      <td>e22acc9c116caa3f2b7121bbb380d08e</td>\n",
              "      <td>1</td>\n",
              "      <td>1</td>\n",
              "      <td>1</td>\n",
              "      <td>1</td>\n",
              "      <td>1</td>\n",
              "      <td>1</td>\n",
              "      <td>1</td>\n",
              "      <td>1</td>\n",
              "      <td>1</td>\n",
              "      <td>1</td>\n",
              "      <td>1</td>\n",
              "      <td>1</td>\n",
              "      <td>1</td>\n",
              "      <td>1</td>\n",
              "      <td>1</td>\n",
              "      <td>1</td>\n",
              "    </tr>\n",
              "    <tr>\n",
              "      <th>1</th>\n",
              "      <td>0000b849f77a49e4a4ce2b2a4ca5be3f</td>\n",
              "      <td>3594e05a005ac4d06a72673270ef9ec9</td>\n",
              "      <td>1</td>\n",
              "      <td>1</td>\n",
              "      <td>1</td>\n",
              "      <td>1</td>\n",
              "      <td>1</td>\n",
              "      <td>1</td>\n",
              "      <td>1</td>\n",
              "      <td>1</td>\n",
              "      <td>1</td>\n",
              "      <td>1</td>\n",
              "      <td>1</td>\n",
              "      <td>1</td>\n",
              "      <td>1</td>\n",
              "      <td>1</td>\n",
              "      <td>1</td>\n",
              "      <td>1</td>\n",
              "    </tr>\n",
              "    <tr>\n",
              "      <th>2</th>\n",
              "      <td>0000f46a3911fa3c0805444483337064</td>\n",
              "      <td>b33ec3b699337181488304f362a6b734</td>\n",
              "      <td>1</td>\n",
              "      <td>1</td>\n",
              "      <td>1</td>\n",
              "      <td>1</td>\n",
              "      <td>1</td>\n",
              "      <td>1</td>\n",
              "      <td>1</td>\n",
              "      <td>1</td>\n",
              "      <td>1</td>\n",
              "      <td>1</td>\n",
              "      <td>1</td>\n",
              "      <td>1</td>\n",
              "      <td>1</td>\n",
              "      <td>1</td>\n",
              "      <td>1</td>\n",
              "      <td>1</td>\n",
              "    </tr>\n",
              "    <tr>\n",
              "      <th>3</th>\n",
              "      <td>0000f6ccb0745a6a4b88665a16c9f078</td>\n",
              "      <td>41272756ecddd9a9ed0180413cc22fb6</td>\n",
              "      <td>1</td>\n",
              "      <td>1</td>\n",
              "      <td>1</td>\n",
              "      <td>1</td>\n",
              "      <td>1</td>\n",
              "      <td>1</td>\n",
              "      <td>1</td>\n",
              "      <td>1</td>\n",
              "      <td>1</td>\n",
              "      <td>1</td>\n",
              "      <td>1</td>\n",
              "      <td>1</td>\n",
              "      <td>1</td>\n",
              "      <td>1</td>\n",
              "      <td>1</td>\n",
              "      <td>1</td>\n",
              "    </tr>\n",
              "    <tr>\n",
              "      <th>4</th>\n",
              "      <td>0004aac84e0df4da2b147fca70cf8255</td>\n",
              "      <td>d957021f1127559cd947b62533f484f7</td>\n",
              "      <td>1</td>\n",
              "      <td>1</td>\n",
              "      <td>1</td>\n",
              "      <td>1</td>\n",
              "      <td>1</td>\n",
              "      <td>1</td>\n",
              "      <td>1</td>\n",
              "      <td>1</td>\n",
              "      <td>1</td>\n",
              "      <td>1</td>\n",
              "      <td>1</td>\n",
              "      <td>1</td>\n",
              "      <td>1</td>\n",
              "      <td>1</td>\n",
              "      <td>1</td>\n",
              "      <td>1</td>\n",
              "    </tr>\n",
              "  </tbody>\n",
              "</table>\n",
              "</div>"
            ],
            "text/plain": [
              "                 customer_unique_id  ... customer_state\n",
              "0  0000366f3b9a7992bf8c76cfdf3221e2  ...              1\n",
              "1  0000b849f77a49e4a4ce2b2a4ca5be3f  ...              1\n",
              "2  0000f46a3911fa3c0805444483337064  ...              1\n",
              "3  0000f6ccb0745a6a4b88665a16c9f078  ...              1\n",
              "4  0004aac84e0df4da2b147fca70cf8255  ...              1\n",
              "\n",
              "[5 rows x 18 columns]"
            ]
          },
          "metadata": {
            "tags": []
          },
          "execution_count": 21
        }
      ]
    },
    {
      "cell_type": "markdown",
      "metadata": {
        "id": "YbWg24tERVbb"
      },
      "source": [
        "Check dropshipper dengan threshold yang telah didapat (percentile 0.99 = 3)"
      ]
    },
    {
      "cell_type": "code",
      "metadata": {
        "id": "bAc7VgF-RPov",
        "outputId": "9a080927-d7d3-46a2-b526-19bfc513cdc7",
        "colab": {
          "base_uri": "https://localhost:8080/",
          "height": 406
        }
      },
      "source": [
        "dropshipper = order_item_merge_grouped[order_item_merge_grouped[\"product_id\"]>3][[\"customer_unique_id\"]]\n",
        "dropshipper"
      ],
      "execution_count": 27,
      "outputs": [
        {
          "output_type": "execute_result",
          "data": {
            "text/html": [
              "<div>\n",
              "<style scoped>\n",
              "    .dataframe tbody tr th:only-of-type {\n",
              "        vertical-align: middle;\n",
              "    }\n",
              "\n",
              "    .dataframe tbody tr th {\n",
              "        vertical-align: top;\n",
              "    }\n",
              "\n",
              "    .dataframe thead th {\n",
              "        text-align: right;\n",
              "    }\n",
              "</style>\n",
              "<table border=\"1\" class=\"dataframe\">\n",
              "  <thead>\n",
              "    <tr style=\"text-align: right;\">\n",
              "      <th></th>\n",
              "      <th>customer_unique_id</th>\n",
              "    </tr>\n",
              "  </thead>\n",
              "  <tbody>\n",
              "    <tr>\n",
              "      <th>22</th>\n",
              "      <td>000fbf0473c10fc1ab6f8d2d286ce20c</td>\n",
              "    </tr>\n",
              "    <tr>\n",
              "      <th>160</th>\n",
              "      <td>0064a1b5f5cddd047c987b988a90c8c1</td>\n",
              "    </tr>\n",
              "    <tr>\n",
              "      <th>227</th>\n",
              "      <td>0096c18412349537abc45e350581cbbc</td>\n",
              "    </tr>\n",
              "    <tr>\n",
              "      <th>232</th>\n",
              "      <td>0097fca0db567f5ca79509b7b4fc1c2d</td>\n",
              "    </tr>\n",
              "    <tr>\n",
              "      <th>264</th>\n",
              "      <td>00ae50eb5e1d2514f694dee1dcbbd5ae</td>\n",
              "    </tr>\n",
              "    <tr>\n",
              "      <th>...</th>\n",
              "      <td>...</td>\n",
              "    </tr>\n",
              "    <tr>\n",
              "      <th>98113</th>\n",
              "      <td>fe86d9409d83a3c561ce16e64d2d55e6</td>\n",
              "    </tr>\n",
              "    <tr>\n",
              "      <th>98420</th>\n",
              "      <td>ff5f29fbfd0a13f7e7ed9f7b92a32194</td>\n",
              "    </tr>\n",
              "    <tr>\n",
              "      <th>98472</th>\n",
              "      <td>ff7f36f6ba0f1126bb95b635322cf9d2</td>\n",
              "    </tr>\n",
              "    <tr>\n",
              "      <th>98567</th>\n",
              "      <td>ffbb6557e45f7158781514f0efddb0d5</td>\n",
              "    </tr>\n",
              "    <tr>\n",
              "      <th>98653</th>\n",
              "      <td>fff5eb4918b2bf4b2da476788d42051c</td>\n",
              "    </tr>\n",
              "  </tbody>\n",
              "</table>\n",
              "<p>965 rows × 1 columns</p>\n",
              "</div>"
            ],
            "text/plain": [
              "                     customer_unique_id\n",
              "22     000fbf0473c10fc1ab6f8d2d286ce20c\n",
              "160    0064a1b5f5cddd047c987b988a90c8c1\n",
              "227    0096c18412349537abc45e350581cbbc\n",
              "232    0097fca0db567f5ca79509b7b4fc1c2d\n",
              "264    00ae50eb5e1d2514f694dee1dcbbd5ae\n",
              "...                                 ...\n",
              "98113  fe86d9409d83a3c561ce16e64d2d55e6\n",
              "98420  ff5f29fbfd0a13f7e7ed9f7b92a32194\n",
              "98472  ff7f36f6ba0f1126bb95b635322cf9d2\n",
              "98567  ffbb6557e45f7158781514f0efddb0d5\n",
              "98653  fff5eb4918b2bf4b2da476788d42051c\n",
              "\n",
              "[965 rows x 1 columns]"
            ]
          },
          "metadata": {
            "tags": []
          },
          "execution_count": 27
        }
      ]
    },
    {
      "cell_type": "code",
      "metadata": {
        "id": "1Fon8FdqSgpx",
        "outputId": "5db67c52-f8ab-4303-e48c-8266b5d17825",
        "colab": {
          "base_uri": "https://localhost:8080/",
          "height": 406
        }
      },
      "source": [
        "dropshipper.drop_duplicates(inplace=True)\n",
        "dropshipper"
      ],
      "execution_count": 26,
      "outputs": [
        {
          "output_type": "execute_result",
          "data": {
            "text/html": [
              "<div>\n",
              "<style scoped>\n",
              "    .dataframe tbody tr th:only-of-type {\n",
              "        vertical-align: middle;\n",
              "    }\n",
              "\n",
              "    .dataframe tbody tr th {\n",
              "        vertical-align: top;\n",
              "    }\n",
              "\n",
              "    .dataframe thead th {\n",
              "        text-align: right;\n",
              "    }\n",
              "</style>\n",
              "<table border=\"1\" class=\"dataframe\">\n",
              "  <thead>\n",
              "    <tr style=\"text-align: right;\">\n",
              "      <th></th>\n",
              "      <th>customer_unique_id</th>\n",
              "    </tr>\n",
              "  </thead>\n",
              "  <tbody>\n",
              "    <tr>\n",
              "      <th>22</th>\n",
              "      <td>000fbf0473c10fc1ab6f8d2d286ce20c</td>\n",
              "    </tr>\n",
              "    <tr>\n",
              "      <th>160</th>\n",
              "      <td>0064a1b5f5cddd047c987b988a90c8c1</td>\n",
              "    </tr>\n",
              "    <tr>\n",
              "      <th>227</th>\n",
              "      <td>0096c18412349537abc45e350581cbbc</td>\n",
              "    </tr>\n",
              "    <tr>\n",
              "      <th>232</th>\n",
              "      <td>0097fca0db567f5ca79509b7b4fc1c2d</td>\n",
              "    </tr>\n",
              "    <tr>\n",
              "      <th>264</th>\n",
              "      <td>00ae50eb5e1d2514f694dee1dcbbd5ae</td>\n",
              "    </tr>\n",
              "    <tr>\n",
              "      <th>...</th>\n",
              "      <td>...</td>\n",
              "    </tr>\n",
              "    <tr>\n",
              "      <th>98113</th>\n",
              "      <td>fe86d9409d83a3c561ce16e64d2d55e6</td>\n",
              "    </tr>\n",
              "    <tr>\n",
              "      <th>98420</th>\n",
              "      <td>ff5f29fbfd0a13f7e7ed9f7b92a32194</td>\n",
              "    </tr>\n",
              "    <tr>\n",
              "      <th>98472</th>\n",
              "      <td>ff7f36f6ba0f1126bb95b635322cf9d2</td>\n",
              "    </tr>\n",
              "    <tr>\n",
              "      <th>98567</th>\n",
              "      <td>ffbb6557e45f7158781514f0efddb0d5</td>\n",
              "    </tr>\n",
              "    <tr>\n",
              "      <th>98653</th>\n",
              "      <td>fff5eb4918b2bf4b2da476788d42051c</td>\n",
              "    </tr>\n",
              "  </tbody>\n",
              "</table>\n",
              "<p>945 rows × 1 columns</p>\n",
              "</div>"
            ],
            "text/plain": [
              "                     customer_unique_id\n",
              "22     000fbf0473c10fc1ab6f8d2d286ce20c\n",
              "160    0064a1b5f5cddd047c987b988a90c8c1\n",
              "227    0096c18412349537abc45e350581cbbc\n",
              "232    0097fca0db567f5ca79509b7b4fc1c2d\n",
              "264    00ae50eb5e1d2514f694dee1dcbbd5ae\n",
              "...                                 ...\n",
              "98113  fe86d9409d83a3c561ce16e64d2d55e6\n",
              "98420  ff5f29fbfd0a13f7e7ed9f7b92a32194\n",
              "98472  ff7f36f6ba0f1126bb95b635322cf9d2\n",
              "98567  ffbb6557e45f7158781514f0efddb0d5\n",
              "98653  fff5eb4918b2bf4b2da476788d42051c\n",
              "\n",
              "[945 rows x 1 columns]"
            ]
          },
          "metadata": {
            "tags": []
          },
          "execution_count": 26
        }
      ]
    },
    {
      "cell_type": "markdown",
      "metadata": {
        "id": "sBnJGfuQTeGa"
      },
      "source": [
        "Boom! We have got the dropshipper id"
      ]
    },
    {
      "cell_type": "markdown",
      "metadata": {
        "id": "lTMlsFHZVVF1"
      },
      "source": [
        "# Which category that sold the most?"
      ]
    },
    {
      "cell_type": "markdown",
      "metadata": {
        "id": "a-SODFcrZjNC"
      },
      "source": [
        "# **In Revenue**"
      ]
    },
    {
      "cell_type": "code",
      "metadata": {
        "id": "EskYe35QVYn0",
        "outputId": "6771e37e-d58b-4d4c-96f3-f4a8be143493",
        "colab": {
          "base_uri": "https://localhost:8080/",
          "height": 217
        }
      },
      "source": [
        "order_product_merge = olist_order_items.merge(olist_products, on = \"product_id\", how = \"inner\")\n",
        "order_product_merge = order_product_merge.merge(product_category_name, on = \"product_category_name\", how = \"inner\")\n",
        "order_product_merge.head()"
      ],
      "execution_count": 28,
      "outputs": [
        {
          "output_type": "execute_result",
          "data": {
            "text/html": [
              "<div>\n",
              "<style scoped>\n",
              "    .dataframe tbody tr th:only-of-type {\n",
              "        vertical-align: middle;\n",
              "    }\n",
              "\n",
              "    .dataframe tbody tr th {\n",
              "        vertical-align: top;\n",
              "    }\n",
              "\n",
              "    .dataframe thead th {\n",
              "        text-align: right;\n",
              "    }\n",
              "</style>\n",
              "<table border=\"1\" class=\"dataframe\">\n",
              "  <thead>\n",
              "    <tr style=\"text-align: right;\">\n",
              "      <th></th>\n",
              "      <th>order_id</th>\n",
              "      <th>order_item_id</th>\n",
              "      <th>product_id</th>\n",
              "      <th>seller_id</th>\n",
              "      <th>shipping_limit_date</th>\n",
              "      <th>price</th>\n",
              "      <th>freight_value</th>\n",
              "      <th>product_category_name</th>\n",
              "      <th>product_name_lenght</th>\n",
              "      <th>product_description_lenght</th>\n",
              "      <th>product_photos_qty</th>\n",
              "      <th>product_weight_g</th>\n",
              "      <th>product_length_cm</th>\n",
              "      <th>product_height_cm</th>\n",
              "      <th>product_width_cm</th>\n",
              "      <th>product_category_name_english</th>\n",
              "    </tr>\n",
              "  </thead>\n",
              "  <tbody>\n",
              "    <tr>\n",
              "      <th>0</th>\n",
              "      <td>00010242fe8c5a6d1ba2dd792cb16214</td>\n",
              "      <td>1</td>\n",
              "      <td>4244733e06e7ecb4970a6e2683c13e61</td>\n",
              "      <td>48436dade18ac8b2bce089ec2a041202</td>\n",
              "      <td>2017-09-19 09:45:35</td>\n",
              "      <td>58.9</td>\n",
              "      <td>13.29</td>\n",
              "      <td>cool_stuff</td>\n",
              "      <td>58.0</td>\n",
              "      <td>598.0</td>\n",
              "      <td>4.0</td>\n",
              "      <td>650.0</td>\n",
              "      <td>28.0</td>\n",
              "      <td>9.0</td>\n",
              "      <td>14.0</td>\n",
              "      <td>cool_stuff</td>\n",
              "    </tr>\n",
              "    <tr>\n",
              "      <th>1</th>\n",
              "      <td>130898c0987d1801452a8ed92a670612</td>\n",
              "      <td>1</td>\n",
              "      <td>4244733e06e7ecb4970a6e2683c13e61</td>\n",
              "      <td>48436dade18ac8b2bce089ec2a041202</td>\n",
              "      <td>2017-07-05 02:44:11</td>\n",
              "      <td>55.9</td>\n",
              "      <td>17.96</td>\n",
              "      <td>cool_stuff</td>\n",
              "      <td>58.0</td>\n",
              "      <td>598.0</td>\n",
              "      <td>4.0</td>\n",
              "      <td>650.0</td>\n",
              "      <td>28.0</td>\n",
              "      <td>9.0</td>\n",
              "      <td>14.0</td>\n",
              "      <td>cool_stuff</td>\n",
              "    </tr>\n",
              "    <tr>\n",
              "      <th>2</th>\n",
              "      <td>532ed5e14e24ae1f0d735b91524b98b9</td>\n",
              "      <td>1</td>\n",
              "      <td>4244733e06e7ecb4970a6e2683c13e61</td>\n",
              "      <td>48436dade18ac8b2bce089ec2a041202</td>\n",
              "      <td>2018-05-23 10:56:25</td>\n",
              "      <td>64.9</td>\n",
              "      <td>18.33</td>\n",
              "      <td>cool_stuff</td>\n",
              "      <td>58.0</td>\n",
              "      <td>598.0</td>\n",
              "      <td>4.0</td>\n",
              "      <td>650.0</td>\n",
              "      <td>28.0</td>\n",
              "      <td>9.0</td>\n",
              "      <td>14.0</td>\n",
              "      <td>cool_stuff</td>\n",
              "    </tr>\n",
              "    <tr>\n",
              "      <th>3</th>\n",
              "      <td>6f8c31653edb8c83e1a739408b5ff750</td>\n",
              "      <td>1</td>\n",
              "      <td>4244733e06e7ecb4970a6e2683c13e61</td>\n",
              "      <td>48436dade18ac8b2bce089ec2a041202</td>\n",
              "      <td>2017-08-07 18:55:08</td>\n",
              "      <td>58.9</td>\n",
              "      <td>16.17</td>\n",
              "      <td>cool_stuff</td>\n",
              "      <td>58.0</td>\n",
              "      <td>598.0</td>\n",
              "      <td>4.0</td>\n",
              "      <td>650.0</td>\n",
              "      <td>28.0</td>\n",
              "      <td>9.0</td>\n",
              "      <td>14.0</td>\n",
              "      <td>cool_stuff</td>\n",
              "    </tr>\n",
              "    <tr>\n",
              "      <th>4</th>\n",
              "      <td>7d19f4ef4d04461989632411b7e588b9</td>\n",
              "      <td>1</td>\n",
              "      <td>4244733e06e7ecb4970a6e2683c13e61</td>\n",
              "      <td>48436dade18ac8b2bce089ec2a041202</td>\n",
              "      <td>2017-08-16 22:05:11</td>\n",
              "      <td>58.9</td>\n",
              "      <td>13.29</td>\n",
              "      <td>cool_stuff</td>\n",
              "      <td>58.0</td>\n",
              "      <td>598.0</td>\n",
              "      <td>4.0</td>\n",
              "      <td>650.0</td>\n",
              "      <td>28.0</td>\n",
              "      <td>9.0</td>\n",
              "      <td>14.0</td>\n",
              "      <td>cool_stuff</td>\n",
              "    </tr>\n",
              "  </tbody>\n",
              "</table>\n",
              "</div>"
            ],
            "text/plain": [
              "                           order_id  ...  product_category_name_english\n",
              "0  00010242fe8c5a6d1ba2dd792cb16214  ...                     cool_stuff\n",
              "1  130898c0987d1801452a8ed92a670612  ...                     cool_stuff\n",
              "2  532ed5e14e24ae1f0d735b91524b98b9  ...                     cool_stuff\n",
              "3  6f8c31653edb8c83e1a739408b5ff750  ...                     cool_stuff\n",
              "4  7d19f4ef4d04461989632411b7e588b9  ...                     cool_stuff\n",
              "\n",
              "[5 rows x 16 columns]"
            ]
          },
          "metadata": {
            "tags": []
          },
          "execution_count": 28
        }
      ]
    },
    {
      "cell_type": "code",
      "metadata": {
        "id": "U140cM1MXBi_",
        "outputId": "99647483-1b18-4b60-e324-48aac745a094",
        "colab": {
          "base_uri": "https://localhost:8080/",
          "height": 247
        }
      },
      "source": [
        "cat_num = order_product_merge.groupby(\"product_category_name_english\").sum()\n",
        "cat_num.head()"
      ],
      "execution_count": 38,
      "outputs": [
        {
          "output_type": "execute_result",
          "data": {
            "text/html": [
              "<div>\n",
              "<style scoped>\n",
              "    .dataframe tbody tr th:only-of-type {\n",
              "        vertical-align: middle;\n",
              "    }\n",
              "\n",
              "    .dataframe tbody tr th {\n",
              "        vertical-align: top;\n",
              "    }\n",
              "\n",
              "    .dataframe thead th {\n",
              "        text-align: right;\n",
              "    }\n",
              "</style>\n",
              "<table border=\"1\" class=\"dataframe\">\n",
              "  <thead>\n",
              "    <tr style=\"text-align: right;\">\n",
              "      <th></th>\n",
              "      <th>order_item_id</th>\n",
              "      <th>price</th>\n",
              "      <th>freight_value</th>\n",
              "      <th>product_name_lenght</th>\n",
              "      <th>product_description_lenght</th>\n",
              "      <th>product_photos_qty</th>\n",
              "      <th>product_weight_g</th>\n",
              "      <th>product_length_cm</th>\n",
              "      <th>product_height_cm</th>\n",
              "      <th>product_width_cm</th>\n",
              "    </tr>\n",
              "    <tr>\n",
              "      <th>product_category_name_english</th>\n",
              "      <th></th>\n",
              "      <th></th>\n",
              "      <th></th>\n",
              "      <th></th>\n",
              "      <th></th>\n",
              "      <th></th>\n",
              "      <th></th>\n",
              "      <th></th>\n",
              "      <th></th>\n",
              "      <th></th>\n",
              "    </tr>\n",
              "  </thead>\n",
              "  <tbody>\n",
              "    <tr>\n",
              "      <th>agro_industry_and_commerce</th>\n",
              "      <td>265</td>\n",
              "      <td>72530.47</td>\n",
              "      <td>5843.60</td>\n",
              "      <td>9908.0</td>\n",
              "      <td>183490.0</td>\n",
              "      <td>498.0</td>\n",
              "      <td>768524.0</td>\n",
              "      <td>6135.0</td>\n",
              "      <td>5043.0</td>\n",
              "      <td>4424.0</td>\n",
              "    </tr>\n",
              "    <tr>\n",
              "      <th>air_conditioning</th>\n",
              "      <td>362</td>\n",
              "      <td>55024.96</td>\n",
              "      <td>6749.23</td>\n",
              "      <td>15199.0</td>\n",
              "      <td>312123.0</td>\n",
              "      <td>700.0</td>\n",
              "      <td>1223051.0</td>\n",
              "      <td>11460.0</td>\n",
              "      <td>6375.0</td>\n",
              "      <td>7779.0</td>\n",
              "    </tr>\n",
              "    <tr>\n",
              "      <th>art</th>\n",
              "      <td>230</td>\n",
              "      <td>24202.64</td>\n",
              "      <td>4045.17</td>\n",
              "      <td>10031.0</td>\n",
              "      <td>199368.0</td>\n",
              "      <td>395.0</td>\n",
              "      <td>325527.0</td>\n",
              "      <td>10250.0</td>\n",
              "      <td>1784.0</td>\n",
              "      <td>7635.0</td>\n",
              "    </tr>\n",
              "    <tr>\n",
              "      <th>arts_and_craftmanship</th>\n",
              "      <td>26</td>\n",
              "      <td>1814.01</td>\n",
              "      <td>370.13</td>\n",
              "      <td>1123.0</td>\n",
              "      <td>19013.0</td>\n",
              "      <td>89.0</td>\n",
              "      <td>32877.0</td>\n",
              "      <td>742.0</td>\n",
              "      <td>262.0</td>\n",
              "      <td>517.0</td>\n",
              "    </tr>\n",
              "    <tr>\n",
              "      <th>audio</th>\n",
              "      <td>383</td>\n",
              "      <td>50688.50</td>\n",
              "      <td>5710.44</td>\n",
              "      <td>16328.0</td>\n",
              "      <td>284990.0</td>\n",
              "      <td>681.0</td>\n",
              "      <td>443506.0</td>\n",
              "      <td>7304.0</td>\n",
              "      <td>3450.0</td>\n",
              "      <td>5640.0</td>\n",
              "    </tr>\n",
              "  </tbody>\n",
              "</table>\n",
              "</div>"
            ],
            "text/plain": [
              "                               order_item_id  ...  product_width_cm\n",
              "product_category_name_english                 ...                  \n",
              "agro_industry_and_commerce               265  ...            4424.0\n",
              "air_conditioning                         362  ...            7779.0\n",
              "art                                      230  ...            7635.0\n",
              "arts_and_craftmanship                     26  ...             517.0\n",
              "audio                                    383  ...            5640.0\n",
              "\n",
              "[5 rows x 10 columns]"
            ]
          },
          "metadata": {
            "tags": []
          },
          "execution_count": 38
        }
      ]
    },
    {
      "cell_type": "code",
      "metadata": {
        "id": "JJjW4nqxXQvT",
        "outputId": "af6aaee0-6367-41a0-a445-45a528482962",
        "colab": {
          "base_uri": "https://localhost:8080/",
          "height": 247
        }
      },
      "source": [
        "cat_num.sort_values(\"price\", ascending=False, inplace=True)\n",
        "cat_num.head()"
      ],
      "execution_count": 39,
      "outputs": [
        {
          "output_type": "execute_result",
          "data": {
            "text/html": [
              "<div>\n",
              "<style scoped>\n",
              "    .dataframe tbody tr th:only-of-type {\n",
              "        vertical-align: middle;\n",
              "    }\n",
              "\n",
              "    .dataframe tbody tr th {\n",
              "        vertical-align: top;\n",
              "    }\n",
              "\n",
              "    .dataframe thead th {\n",
              "        text-align: right;\n",
              "    }\n",
              "</style>\n",
              "<table border=\"1\" class=\"dataframe\">\n",
              "  <thead>\n",
              "    <tr style=\"text-align: right;\">\n",
              "      <th></th>\n",
              "      <th>order_item_id</th>\n",
              "      <th>price</th>\n",
              "      <th>freight_value</th>\n",
              "      <th>product_name_lenght</th>\n",
              "      <th>product_description_lenght</th>\n",
              "      <th>product_photos_qty</th>\n",
              "      <th>product_weight_g</th>\n",
              "      <th>product_length_cm</th>\n",
              "      <th>product_height_cm</th>\n",
              "      <th>product_width_cm</th>\n",
              "    </tr>\n",
              "    <tr>\n",
              "      <th>product_category_name_english</th>\n",
              "      <th></th>\n",
              "      <th></th>\n",
              "      <th></th>\n",
              "      <th></th>\n",
              "      <th></th>\n",
              "      <th></th>\n",
              "      <th></th>\n",
              "      <th></th>\n",
              "      <th></th>\n",
              "      <th></th>\n",
              "    </tr>\n",
              "  </thead>\n",
              "  <tbody>\n",
              "    <tr>\n",
              "      <th>health_beauty</th>\n",
              "      <td>11081</td>\n",
              "      <td>1258681.34</td>\n",
              "      <td>182566.73</td>\n",
              "      <td>472451.0</td>\n",
              "      <td>10744733.0</td>\n",
              "      <td>17680.0</td>\n",
              "      <td>10141571.0</td>\n",
              "      <td>228448.0</td>\n",
              "      <td>135624.0</td>\n",
              "      <td>175133.0</td>\n",
              "    </tr>\n",
              "    <tr>\n",
              "      <th>watches_gifts</th>\n",
              "      <td>6594</td>\n",
              "      <td>1205005.68</td>\n",
              "      <td>100535.93</td>\n",
              "      <td>289336.0</td>\n",
              "      <td>3852195.0</td>\n",
              "      <td>15019.0</td>\n",
              "      <td>3480631.0</td>\n",
              "      <td>117228.0</td>\n",
              "      <td>52996.0</td>\n",
              "      <td>91167.0</td>\n",
              "    </tr>\n",
              "    <tr>\n",
              "      <th>bed_bath_table</th>\n",
              "      <td>13665</td>\n",
              "      <td>1036988.68</td>\n",
              "      <td>204693.04</td>\n",
              "      <td>575113.0</td>\n",
              "      <td>4966552.0</td>\n",
              "      <td>16639.0</td>\n",
              "      <td>23527714.0</td>\n",
              "      <td>411726.0</td>\n",
              "      <td>140416.0</td>\n",
              "      <td>345135.0</td>\n",
              "    </tr>\n",
              "    <tr>\n",
              "      <th>sports_leisure</th>\n",
              "      <td>9932</td>\n",
              "      <td>988048.97</td>\n",
              "      <td>168607.51</td>\n",
              "      <td>402258.0</td>\n",
              "      <td>9430251.0</td>\n",
              "      <td>18959.0</td>\n",
              "      <td>15061795.0</td>\n",
              "      <td>265880.0</td>\n",
              "      <td>154420.0</td>\n",
              "      <td>175467.0</td>\n",
              "    </tr>\n",
              "    <tr>\n",
              "      <th>computers_accessories</th>\n",
              "      <td>9874</td>\n",
              "      <td>911954.32</td>\n",
              "      <td>147318.08</td>\n",
              "      <td>369983.0</td>\n",
              "      <td>6292587.0</td>\n",
              "      <td>13594.0</td>\n",
              "      <td>7063939.0</td>\n",
              "      <td>187765.0</td>\n",
              "      <td>93583.0</td>\n",
              "      <td>142372.0</td>\n",
              "    </tr>\n",
              "  </tbody>\n",
              "</table>\n",
              "</div>"
            ],
            "text/plain": [
              "                               order_item_id  ...  product_width_cm\n",
              "product_category_name_english                 ...                  \n",
              "health_beauty                          11081  ...          175133.0\n",
              "watches_gifts                           6594  ...           91167.0\n",
              "bed_bath_table                         13665  ...          345135.0\n",
              "sports_leisure                          9932  ...          175467.0\n",
              "computers_accessories                   9874  ...          142372.0\n",
              "\n",
              "[5 rows x 10 columns]"
            ]
          },
          "metadata": {
            "tags": []
          },
          "execution_count": 39
        }
      ]
    },
    {
      "cell_type": "code",
      "metadata": {
        "id": "OrE9bFsJXnUv",
        "outputId": "3caf9b4a-ec17-4c18-a053-d2fdc9e98109",
        "colab": {
          "base_uri": "https://localhost:8080/",
          "height": 224
        }
      },
      "source": [
        "cat_num.reset_index(inplace=True)\n",
        "cat_num.head()"
      ],
      "execution_count": 40,
      "outputs": [
        {
          "output_type": "execute_result",
          "data": {
            "text/html": [
              "<div>\n",
              "<style scoped>\n",
              "    .dataframe tbody tr th:only-of-type {\n",
              "        vertical-align: middle;\n",
              "    }\n",
              "\n",
              "    .dataframe tbody tr th {\n",
              "        vertical-align: top;\n",
              "    }\n",
              "\n",
              "    .dataframe thead th {\n",
              "        text-align: right;\n",
              "    }\n",
              "</style>\n",
              "<table border=\"1\" class=\"dataframe\">\n",
              "  <thead>\n",
              "    <tr style=\"text-align: right;\">\n",
              "      <th></th>\n",
              "      <th>product_category_name_english</th>\n",
              "      <th>order_item_id</th>\n",
              "      <th>price</th>\n",
              "      <th>freight_value</th>\n",
              "      <th>product_name_lenght</th>\n",
              "      <th>product_description_lenght</th>\n",
              "      <th>product_photos_qty</th>\n",
              "      <th>product_weight_g</th>\n",
              "      <th>product_length_cm</th>\n",
              "      <th>product_height_cm</th>\n",
              "      <th>product_width_cm</th>\n",
              "    </tr>\n",
              "  </thead>\n",
              "  <tbody>\n",
              "    <tr>\n",
              "      <th>0</th>\n",
              "      <td>health_beauty</td>\n",
              "      <td>11081</td>\n",
              "      <td>1258681.34</td>\n",
              "      <td>182566.73</td>\n",
              "      <td>472451.0</td>\n",
              "      <td>10744733.0</td>\n",
              "      <td>17680.0</td>\n",
              "      <td>10141571.0</td>\n",
              "      <td>228448.0</td>\n",
              "      <td>135624.0</td>\n",
              "      <td>175133.0</td>\n",
              "    </tr>\n",
              "    <tr>\n",
              "      <th>1</th>\n",
              "      <td>watches_gifts</td>\n",
              "      <td>6594</td>\n",
              "      <td>1205005.68</td>\n",
              "      <td>100535.93</td>\n",
              "      <td>289336.0</td>\n",
              "      <td>3852195.0</td>\n",
              "      <td>15019.0</td>\n",
              "      <td>3480631.0</td>\n",
              "      <td>117228.0</td>\n",
              "      <td>52996.0</td>\n",
              "      <td>91167.0</td>\n",
              "    </tr>\n",
              "    <tr>\n",
              "      <th>2</th>\n",
              "      <td>bed_bath_table</td>\n",
              "      <td>13665</td>\n",
              "      <td>1036988.68</td>\n",
              "      <td>204693.04</td>\n",
              "      <td>575113.0</td>\n",
              "      <td>4966552.0</td>\n",
              "      <td>16639.0</td>\n",
              "      <td>23527714.0</td>\n",
              "      <td>411726.0</td>\n",
              "      <td>140416.0</td>\n",
              "      <td>345135.0</td>\n",
              "    </tr>\n",
              "    <tr>\n",
              "      <th>3</th>\n",
              "      <td>sports_leisure</td>\n",
              "      <td>9932</td>\n",
              "      <td>988048.97</td>\n",
              "      <td>168607.51</td>\n",
              "      <td>402258.0</td>\n",
              "      <td>9430251.0</td>\n",
              "      <td>18959.0</td>\n",
              "      <td>15061795.0</td>\n",
              "      <td>265880.0</td>\n",
              "      <td>154420.0</td>\n",
              "      <td>175467.0</td>\n",
              "    </tr>\n",
              "    <tr>\n",
              "      <th>4</th>\n",
              "      <td>computers_accessories</td>\n",
              "      <td>9874</td>\n",
              "      <td>911954.32</td>\n",
              "      <td>147318.08</td>\n",
              "      <td>369983.0</td>\n",
              "      <td>6292587.0</td>\n",
              "      <td>13594.0</td>\n",
              "      <td>7063939.0</td>\n",
              "      <td>187765.0</td>\n",
              "      <td>93583.0</td>\n",
              "      <td>142372.0</td>\n",
              "    </tr>\n",
              "  </tbody>\n",
              "</table>\n",
              "</div>"
            ],
            "text/plain": [
              "  product_category_name_english  ...  product_width_cm\n",
              "0                 health_beauty  ...          175133.0\n",
              "1                 watches_gifts  ...           91167.0\n",
              "2                bed_bath_table  ...          345135.0\n",
              "3                sports_leisure  ...          175467.0\n",
              "4         computers_accessories  ...          142372.0\n",
              "\n",
              "[5 rows x 11 columns]"
            ]
          },
          "metadata": {
            "tags": []
          },
          "execution_count": 40
        }
      ]
    },
    {
      "cell_type": "code",
      "metadata": {
        "id": "CBVtiZ-tYSmS",
        "outputId": "1adb9702-da42-4e61-cec5-0973b605629c",
        "colab": {
          "base_uri": "https://localhost:8080/",
          "height": 1000
        }
      },
      "source": [
        "plt.figure(figsize=(20,10))\n",
        "plt.title(\"Total Revenue by Category\")\n",
        "plot = sns.barplot(y=\"price\", x = \"product_category_name_english\", data = cat_num.head(20))\n",
        "plot.set_xticklabels(rotation=45, labels=list(cat_num.head(20)[\"product_category_name_english\"]))\n"
      ],
      "execution_count": 51,
      "outputs": [
        {
          "output_type": "execute_result",
          "data": {
            "text/plain": [
              "[Text(0, 0, 'health_beauty'),\n",
              " Text(0, 0, 'watches_gifts'),\n",
              " Text(0, 0, 'bed_bath_table'),\n",
              " Text(0, 0, 'sports_leisure'),\n",
              " Text(0, 0, 'computers_accessories'),\n",
              " Text(0, 0, 'furniture_decor'),\n",
              " Text(0, 0, 'cool_stuff'),\n",
              " Text(0, 0, 'housewares'),\n",
              " Text(0, 0, 'auto'),\n",
              " Text(0, 0, 'garden_tools'),\n",
              " Text(0, 0, 'toys'),\n",
              " Text(0, 0, 'baby'),\n",
              " Text(0, 0, 'perfumery'),\n",
              " Text(0, 0, 'telephony'),\n",
              " Text(0, 0, 'office_furniture'),\n",
              " Text(0, 0, 'stationery'),\n",
              " Text(0, 0, 'computers'),\n",
              " Text(0, 0, 'pet_shop'),\n",
              " Text(0, 0, 'musical_instruments'),\n",
              " Text(0, 0, 'small_appliances')]"
            ]
          },
          "metadata": {
            "tags": []
          },
          "execution_count": 51
        },
        {
          "output_type": "display_data",
          "data": {
            "image/png": "[encoded data removed]",
            "text/plain": [
              "<Figure size 1440x720 with 1 Axes>"
            ]
          },
          "metadata": {
            "tags": [],
            "needs_background": "light"
          }
        }
      ]
    },
    {
      "cell_type": "markdown",
      "metadata": {
        "id": "GMpapvlpljNa"
      },
      "source": [
        "# **In Number**"
      ]
    },
    {
      "cell_type": "code",
      "metadata": {
        "id": "bXFJgCPpZIdv",
        "outputId": "0aa2feb9-3313-4bd6-e4af-2da88a1f81ce",
        "colab": {
          "base_uri": "https://localhost:8080/",
          "height": 255
        }
      },
      "source": [
        "cat_nums = order_product_merge.groupby(\"product_category_name_english\").count()\n",
        "cat_nums.head()"
      ],
      "execution_count": 49,
      "outputs": [
        {
          "output_type": "execute_result",
          "data": {
            "text/html": [
              "<div>\n",
              "<style scoped>\n",
              "    .dataframe tbody tr th:only-of-type {\n",
              "        vertical-align: middle;\n",
              "    }\n",
              "\n",
              "    .dataframe tbody tr th {\n",
              "        vertical-align: top;\n",
              "    }\n",
              "\n",
              "    .dataframe thead th {\n",
              "        text-align: right;\n",
              "    }\n",
              "</style>\n",
              "<table border=\"1\" class=\"dataframe\">\n",
              "  <thead>\n",
              "    <tr style=\"text-align: right;\">\n",
              "      <th></th>\n",
              "      <th>order_id</th>\n",
              "      <th>order_item_id</th>\n",
              "      <th>product_id</th>\n",
              "      <th>seller_id</th>\n",
              "      <th>shipping_limit_date</th>\n",
              "      <th>price</th>\n",
              "      <th>freight_value</th>\n",
              "      <th>product_category_name</th>\n",
              "      <th>product_name_lenght</th>\n",
              "      <th>product_description_lenght</th>\n",
              "      <th>product_photos_qty</th>\n",
              "      <th>product_weight_g</th>\n",
              "      <th>product_length_cm</th>\n",
              "      <th>product_height_cm</th>\n",
              "      <th>product_width_cm</th>\n",
              "    </tr>\n",
              "    <tr>\n",
              "      <th>product_category_name_english</th>\n",
              "      <th></th>\n",
              "      <th></th>\n",
              "      <th></th>\n",
              "      <th></th>\n",
              "      <th></th>\n",
              "      <th></th>\n",
              "      <th></th>\n",
              "      <th></th>\n",
              "      <th></th>\n",
              "      <th></th>\n",
              "      <th></th>\n",
              "      <th></th>\n",
              "      <th></th>\n",
              "      <th></th>\n",
              "      <th></th>\n",
              "    </tr>\n",
              "  </thead>\n",
              "  <tbody>\n",
              "    <tr>\n",
              "      <th>agro_industry_and_commerce</th>\n",
              "      <td>212</td>\n",
              "      <td>212</td>\n",
              "      <td>212</td>\n",
              "      <td>212</td>\n",
              "      <td>212</td>\n",
              "      <td>212</td>\n",
              "      <td>212</td>\n",
              "      <td>212</td>\n",
              "      <td>212</td>\n",
              "      <td>212</td>\n",
              "      <td>212</td>\n",
              "      <td>212</td>\n",
              "      <td>212</td>\n",
              "      <td>212</td>\n",
              "      <td>212</td>\n",
              "    </tr>\n",
              "    <tr>\n",
              "      <th>air_conditioning</th>\n",
              "      <td>297</td>\n",
              "      <td>297</td>\n",
              "      <td>297</td>\n",
              "      <td>297</td>\n",
              "      <td>297</td>\n",
              "      <td>297</td>\n",
              "      <td>297</td>\n",
              "      <td>297</td>\n",
              "      <td>297</td>\n",
              "      <td>297</td>\n",
              "      <td>297</td>\n",
              "      <td>297</td>\n",
              "      <td>297</td>\n",
              "      <td>297</td>\n",
              "      <td>297</td>\n",
              "    </tr>\n",
              "    <tr>\n",
              "      <th>art</th>\n",
              "      <td>209</td>\n",
              "      <td>209</td>\n",
              "      <td>209</td>\n",
              "      <td>209</td>\n",
              "      <td>209</td>\n",
              "      <td>209</td>\n",
              "      <td>209</td>\n",
              "      <td>209</td>\n",
              "      <td>209</td>\n",
              "      <td>209</td>\n",
              "      <td>209</td>\n",
              "      <td>209</td>\n",
              "      <td>209</td>\n",
              "      <td>209</td>\n",
              "      <td>209</td>\n",
              "    </tr>\n",
              "    <tr>\n",
              "      <th>arts_and_craftmanship</th>\n",
              "      <td>24</td>\n",
              "      <td>24</td>\n",
              "      <td>24</td>\n",
              "      <td>24</td>\n",
              "      <td>24</td>\n",
              "      <td>24</td>\n",
              "      <td>24</td>\n",
              "      <td>24</td>\n",
              "      <td>24</td>\n",
              "      <td>24</td>\n",
              "      <td>24</td>\n",
              "      <td>24</td>\n",
              "      <td>24</td>\n",
              "      <td>24</td>\n",
              "      <td>24</td>\n",
              "    </tr>\n",
              "    <tr>\n",
              "      <th>audio</th>\n",
              "      <td>364</td>\n",
              "      <td>364</td>\n",
              "      <td>364</td>\n",
              "      <td>364</td>\n",
              "      <td>364</td>\n",
              "      <td>364</td>\n",
              "      <td>364</td>\n",
              "      <td>364</td>\n",
              "      <td>364</td>\n",
              "      <td>364</td>\n",
              "      <td>364</td>\n",
              "      <td>364</td>\n",
              "      <td>364</td>\n",
              "      <td>364</td>\n",
              "      <td>364</td>\n",
              "    </tr>\n",
              "  </tbody>\n",
              "</table>\n",
              "</div>"
            ],
            "text/plain": [
              "                               order_id  ...  product_width_cm\n",
              "product_category_name_english            ...                  \n",
              "agro_industry_and_commerce          212  ...               212\n",
              "air_conditioning                    297  ...               297\n",
              "art                                 209  ...               209\n",
              "arts_and_craftmanship                24  ...                24\n",
              "audio                               364  ...               364\n",
              "\n",
              "[5 rows x 15 columns]"
            ]
          },
          "metadata": {
            "tags": []
          },
          "execution_count": 49
        }
      ]
    },
    {
      "cell_type": "code",
      "metadata": {
        "id": "rjSqvGsOl7UN",
        "outputId": "c45908b4-59fe-4af1-a734-1666854c89c2",
        "colab": {
          "base_uri": "https://localhost:8080/",
          "height": 217
        }
      },
      "source": [
        "cat_nums.sort_values(\"product_id\", ascending=False, inplace=True)\n",
        "cat_nums.reset_index(inplace=True)\n",
        "cat_nums.head()"
      ],
      "execution_count": 50,
      "outputs": [
        {
          "output_type": "execute_result",
          "data": {
            "text/html": [
              "<div>\n",
              "<style scoped>\n",
              "    .dataframe tbody tr th:only-of-type {\n",
              "        vertical-align: middle;\n",
              "    }\n",
              "\n",
              "    .dataframe tbody tr th {\n",
              "        vertical-align: top;\n",
              "    }\n",
              "\n",
              "    .dataframe thead th {\n",
              "        text-align: right;\n",
              "    }\n",
              "</style>\n",
              "<table border=\"1\" class=\"dataframe\">\n",
              "  <thead>\n",
              "    <tr style=\"text-align: right;\">\n",
              "      <th></th>\n",
              "      <th>product_category_name_english</th>\n",
              "      <th>order_id</th>\n",
              "      <th>order_item_id</th>\n",
              "      <th>product_id</th>\n",
              "      <th>seller_id</th>\n",
              "      <th>shipping_limit_date</th>\n",
              "      <th>price</th>\n",
              "      <th>freight_value</th>\n",
              "      <th>product_category_name</th>\n",
              "      <th>product_name_lenght</th>\n",
              "      <th>product_description_lenght</th>\n",
              "      <th>product_photos_qty</th>\n",
              "      <th>product_weight_g</th>\n",
              "      <th>product_length_cm</th>\n",
              "      <th>product_height_cm</th>\n",
              "      <th>product_width_cm</th>\n",
              "    </tr>\n",
              "  </thead>\n",
              "  <tbody>\n",
              "    <tr>\n",
              "      <th>0</th>\n",
              "      <td>bed_bath_table</td>\n",
              "      <td>11115</td>\n",
              "      <td>11115</td>\n",
              "      <td>11115</td>\n",
              "      <td>11115</td>\n",
              "      <td>11115</td>\n",
              "      <td>11115</td>\n",
              "      <td>11115</td>\n",
              "      <td>11115</td>\n",
              "      <td>11115</td>\n",
              "      <td>11115</td>\n",
              "      <td>11115</td>\n",
              "      <td>11115</td>\n",
              "      <td>11115</td>\n",
              "      <td>11115</td>\n",
              "      <td>11115</td>\n",
              "    </tr>\n",
              "    <tr>\n",
              "      <th>1</th>\n",
              "      <td>health_beauty</td>\n",
              "      <td>9670</td>\n",
              "      <td>9670</td>\n",
              "      <td>9670</td>\n",
              "      <td>9670</td>\n",
              "      <td>9670</td>\n",
              "      <td>9670</td>\n",
              "      <td>9670</td>\n",
              "      <td>9670</td>\n",
              "      <td>9670</td>\n",
              "      <td>9670</td>\n",
              "      <td>9670</td>\n",
              "      <td>9670</td>\n",
              "      <td>9670</td>\n",
              "      <td>9670</td>\n",
              "      <td>9670</td>\n",
              "    </tr>\n",
              "    <tr>\n",
              "      <th>2</th>\n",
              "      <td>sports_leisure</td>\n",
              "      <td>8641</td>\n",
              "      <td>8641</td>\n",
              "      <td>8641</td>\n",
              "      <td>8641</td>\n",
              "      <td>8641</td>\n",
              "      <td>8641</td>\n",
              "      <td>8641</td>\n",
              "      <td>8641</td>\n",
              "      <td>8641</td>\n",
              "      <td>8641</td>\n",
              "      <td>8641</td>\n",
              "      <td>8641</td>\n",
              "      <td>8641</td>\n",
              "      <td>8641</td>\n",
              "      <td>8641</td>\n",
              "    </tr>\n",
              "    <tr>\n",
              "      <th>3</th>\n",
              "      <td>furniture_decor</td>\n",
              "      <td>8334</td>\n",
              "      <td>8334</td>\n",
              "      <td>8334</td>\n",
              "      <td>8334</td>\n",
              "      <td>8334</td>\n",
              "      <td>8334</td>\n",
              "      <td>8334</td>\n",
              "      <td>8334</td>\n",
              "      <td>8334</td>\n",
              "      <td>8334</td>\n",
              "      <td>8334</td>\n",
              "      <td>8334</td>\n",
              "      <td>8334</td>\n",
              "      <td>8334</td>\n",
              "      <td>8334</td>\n",
              "    </tr>\n",
              "    <tr>\n",
              "      <th>4</th>\n",
              "      <td>computers_accessories</td>\n",
              "      <td>7827</td>\n",
              "      <td>7827</td>\n",
              "      <td>7827</td>\n",
              "      <td>7827</td>\n",
              "      <td>7827</td>\n",
              "      <td>7827</td>\n",
              "      <td>7827</td>\n",
              "      <td>7827</td>\n",
              "      <td>7827</td>\n",
              "      <td>7827</td>\n",
              "      <td>7827</td>\n",
              "      <td>7827</td>\n",
              "      <td>7827</td>\n",
              "      <td>7827</td>\n",
              "      <td>7827</td>\n",
              "    </tr>\n",
              "  </tbody>\n",
              "</table>\n",
              "</div>"
            ],
            "text/plain": [
              "  product_category_name_english  order_id  ...  product_height_cm  product_width_cm\n",
              "0                bed_bath_table     11115  ...              11115             11115\n",
              "1                 health_beauty      9670  ...               9670              9670\n",
              "2                sports_leisure      8641  ...               8641              8641\n",
              "3               furniture_decor      8334  ...               8334              8334\n",
              "4         computers_accessories      7827  ...               7827              7827\n",
              "\n",
              "[5 rows x 16 columns]"
            ]
          },
          "metadata": {
            "tags": []
          },
          "execution_count": 50
        }
      ]
    },
    {
      "cell_type": "code",
      "metadata": {
        "id": "GHCo8q69mMVA",
        "outputId": "e19cf024-9421-4a0d-9b83-b2acb072a745",
        "colab": {
          "base_uri": "https://localhost:8080/",
          "height": 1000
        }
      },
      "source": [
        "plt.figure(figsize=(20,10))\n",
        "plt.title(\"Number of Products by Categories\")\n",
        "plot = sns.barplot(y=\"product_id\", x=\"product_category_name_english\", data=cat_nums.head(20))\n",
        "plot.set_xticklabels(rotation=45, labels = list(cat_nums.head(20)[\"product_category_name_english\"]))"
      ],
      "execution_count": 54,
      "outputs": [
        {
          "output_type": "execute_result",
          "data": {
            "text/plain": [
              "[Text(0, 0, 'bed_bath_table'),\n",
              " Text(0, 0, 'health_beauty'),\n",
              " Text(0, 0, 'sports_leisure'),\n",
              " Text(0, 0, 'furniture_decor'),\n",
              " Text(0, 0, 'computers_accessories'),\n",
              " Text(0, 0, 'housewares'),\n",
              " Text(0, 0, 'watches_gifts'),\n",
              " Text(0, 0, 'telephony'),\n",
              " Text(0, 0, 'garden_tools'),\n",
              " Text(0, 0, 'auto'),\n",
              " Text(0, 0, 'toys'),\n",
              " Text(0, 0, 'cool_stuff'),\n",
              " Text(0, 0, 'perfumery'),\n",
              " Text(0, 0, 'baby'),\n",
              " Text(0, 0, 'electronics'),\n",
              " Text(0, 0, 'stationery'),\n",
              " Text(0, 0, 'fashion_bags_accessories'),\n",
              " Text(0, 0, 'pet_shop'),\n",
              " Text(0, 0, 'office_furniture'),\n",
              " Text(0, 0, 'consoles_games')]"
            ]
          },
          "metadata": {
            "tags": []
          },
          "execution_count": 54
        },
        {
          "output_type": "display_data",
          "data": {
            "image/png": "[encoded data removed]",
            "text/plain": [
              "<Figure size 1440x720 with 1 Axes>"
            ]
          },
          "metadata": {
            "tags": [],
            "needs_background": "light"
          }
        }
      ]
    },
    {
      "cell_type": "markdown",
      "metadata": {
        "id": "11bMLTJhtbZb"
      },
      "source": [
        "# **How is the rating by Categories**"
      ]
    },
    {
      "cell_type": "code",
      "metadata": {
        "id": "zYlEAxvMs43K",
        "outputId": "0edf670f-e114-45a0-f168-bcb3c6d7d0fb",
        "colab": {
          "base_uri": "https://localhost:8080/",
          "height": 234
        }
      },
      "source": [
        "review_item_cat_merge = review_item_merge.merge(olist_products, on=\"product_id\", how=\"inner\")\n",
        "review_item_cat_merge = review_item_cat_merge.merge(product_category_name, on=\"product_category_name\", how=\"inner\")\n",
        "review_item_cat_merge.head()"
      ],
      "execution_count": 55,
      "outputs": [
        {
          "output_type": "execute_result",
          "data": {
            "text/html": [
              "<div>\n",
              "<style scoped>\n",
              "    .dataframe tbody tr th:only-of-type {\n",
              "        vertical-align: middle;\n",
              "    }\n",
              "\n",
              "    .dataframe tbody tr th {\n",
              "        vertical-align: top;\n",
              "    }\n",
              "\n",
              "    .dataframe thead th {\n",
              "        text-align: right;\n",
              "    }\n",
              "</style>\n",
              "<table border=\"1\" class=\"dataframe\">\n",
              "  <thead>\n",
              "    <tr style=\"text-align: right;\">\n",
              "      <th></th>\n",
              "      <th>review_id</th>\n",
              "      <th>order_id</th>\n",
              "      <th>review_score</th>\n",
              "      <th>review_comment_title</th>\n",
              "      <th>review_comment_message</th>\n",
              "      <th>review_creation_date</th>\n",
              "      <th>review_answer_timestamp</th>\n",
              "      <th>order_item_id</th>\n",
              "      <th>product_id</th>\n",
              "      <th>seller_id</th>\n",
              "      <th>shipping_limit_date</th>\n",
              "      <th>price</th>\n",
              "      <th>freight_value</th>\n",
              "      <th>product_category_name</th>\n",
              "      <th>product_name_lenght</th>\n",
              "      <th>product_description_lenght</th>\n",
              "      <th>product_photos_qty</th>\n",
              "      <th>product_weight_g</th>\n",
              "      <th>product_length_cm</th>\n",
              "      <th>product_height_cm</th>\n",
              "      <th>product_width_cm</th>\n",
              "      <th>product_category_name_english</th>\n",
              "    </tr>\n",
              "  </thead>\n",
              "  <tbody>\n",
              "    <tr>\n",
              "      <th>0</th>\n",
              "      <td>7bc2406110b926393aa56f80a40eba40</td>\n",
              "      <td>73fc7af87114b39712e6da79b0a377eb</td>\n",
              "      <td>4</td>\n",
              "      <td>NaN</td>\n",
              "      <td>NaN</td>\n",
              "      <td>2018-01-18 00:00:00</td>\n",
              "      <td>2018-01-18 21:46:59</td>\n",
              "      <td>1.0</td>\n",
              "      <td>fd25ab760bfbba13c198fa3b4f1a0cd3</td>\n",
              "      <td>6d803cb79cc31c41c4c789a75933b3c7</td>\n",
              "      <td>2018-01-18 15:47:59</td>\n",
              "      <td>185.0</td>\n",
              "      <td>13.63</td>\n",
              "      <td>esporte_lazer</td>\n",
              "      <td>42.0</td>\n",
              "      <td>858.0</td>\n",
              "      <td>1.0</td>\n",
              "      <td>1300.0</td>\n",
              "      <td>30.0</td>\n",
              "      <td>30.0</td>\n",
              "      <td>35.0</td>\n",
              "      <td>sports_leisure</td>\n",
              "    </tr>\n",
              "    <tr>\n",
              "      <th>1</th>\n",
              "      <td>7bc2406110b926393aa56f80a40eba40</td>\n",
              "      <td>73fc7af87114b39712e6da79b0a377eb</td>\n",
              "      <td>4</td>\n",
              "      <td>NaN</td>\n",
              "      <td>NaN</td>\n",
              "      <td>2018-01-18 00:00:00</td>\n",
              "      <td>2018-01-18 21:46:59</td>\n",
              "      <td>2.0</td>\n",
              "      <td>fd25ab760bfbba13c198fa3b4f1a0cd3</td>\n",
              "      <td>6d803cb79cc31c41c4c789a75933b3c7</td>\n",
              "      <td>2018-01-18 15:47:59</td>\n",
              "      <td>185.0</td>\n",
              "      <td>13.63</td>\n",
              "      <td>esporte_lazer</td>\n",
              "      <td>42.0</td>\n",
              "      <td>858.0</td>\n",
              "      <td>1.0</td>\n",
              "      <td>1300.0</td>\n",
              "      <td>30.0</td>\n",
              "      <td>30.0</td>\n",
              "      <td>35.0</td>\n",
              "      <td>sports_leisure</td>\n",
              "    </tr>\n",
              "    <tr>\n",
              "      <th>2</th>\n",
              "      <td>e2655da8bccce2ddc2f43cc2c80d24f3</td>\n",
              "      <td>19721d59a9764437477eff0730b48665</td>\n",
              "      <td>5</td>\n",
              "      <td>NaN</td>\n",
              "      <td>NaN</td>\n",
              "      <td>2018-04-10 00:00:00</td>\n",
              "      <td>2018-04-11 11:30:43</td>\n",
              "      <td>1.0</td>\n",
              "      <td>fd25ab760bfbba13c198fa3b4f1a0cd3</td>\n",
              "      <td>6d803cb79cc31c41c4c789a75933b3c7</td>\n",
              "      <td>2018-04-02 11:15:38</td>\n",
              "      <td>185.0</td>\n",
              "      <td>20.26</td>\n",
              "      <td>esporte_lazer</td>\n",
              "      <td>42.0</td>\n",
              "      <td>858.0</td>\n",
              "      <td>1.0</td>\n",
              "      <td>1300.0</td>\n",
              "      <td>30.0</td>\n",
              "      <td>30.0</td>\n",
              "      <td>35.0</td>\n",
              "      <td>sports_leisure</td>\n",
              "    </tr>\n",
              "    <tr>\n",
              "      <th>3</th>\n",
              "      <td>cb18f53b563f0bdeb76be0376ddd6b6a</td>\n",
              "      <td>efd626e6a12a82d76e456e34093f8356</td>\n",
              "      <td>5</td>\n",
              "      <td>NaN</td>\n",
              "      <td>NaN</td>\n",
              "      <td>2017-12-28 00:00:00</td>\n",
              "      <td>2017-12-30 12:07:50</td>\n",
              "      <td>1.0</td>\n",
              "      <td>fd25ab760bfbba13c198fa3b4f1a0cd3</td>\n",
              "      <td>6d803cb79cc31c41c4c789a75933b3c7</td>\n",
              "      <td>2017-12-14 20:51:05</td>\n",
              "      <td>185.0</td>\n",
              "      <td>17.05</td>\n",
              "      <td>esporte_lazer</td>\n",
              "      <td>42.0</td>\n",
              "      <td>858.0</td>\n",
              "      <td>1.0</td>\n",
              "      <td>1300.0</td>\n",
              "      <td>30.0</td>\n",
              "      <td>30.0</td>\n",
              "      <td>35.0</td>\n",
              "      <td>sports_leisure</td>\n",
              "    </tr>\n",
              "    <tr>\n",
              "      <th>4</th>\n",
              "      <td>f7c4243c7fe1938f181bec41a392bdeb</td>\n",
              "      <td>8e6bfb81e283fa7e4f11123a3fb894f1</td>\n",
              "      <td>5</td>\n",
              "      <td>NaN</td>\n",
              "      <td>Parabéns lojas lannister adorei comprar pela I...</td>\n",
              "      <td>2018-03-01 00:00:00</td>\n",
              "      <td>2018-03-02 10:26:53</td>\n",
              "      <td>1.0</td>\n",
              "      <td>3880d25d502b15b1de6fddc42ad1d67a</td>\n",
              "      <td>989becdce12ebc39863c2bceab6f3ca1</td>\n",
              "      <td>2018-02-15 15:48:21</td>\n",
              "      <td>1199.0</td>\n",
              "      <td>134.25</td>\n",
              "      <td>esporte_lazer</td>\n",
              "      <td>48.0</td>\n",
              "      <td>562.0</td>\n",
              "      <td>5.0</td>\n",
              "      <td>9850.0</td>\n",
              "      <td>105.0</td>\n",
              "      <td>35.0</td>\n",
              "      <td>50.0</td>\n",
              "      <td>sports_leisure</td>\n",
              "    </tr>\n",
              "  </tbody>\n",
              "</table>\n",
              "</div>"
            ],
            "text/plain": [
              "                          review_id  ... product_category_name_english\n",
              "0  7bc2406110b926393aa56f80a40eba40  ...                sports_leisure\n",
              "1  7bc2406110b926393aa56f80a40eba40  ...                sports_leisure\n",
              "2  e2655da8bccce2ddc2f43cc2c80d24f3  ...                sports_leisure\n",
              "3  cb18f53b563f0bdeb76be0376ddd6b6a  ...                sports_leisure\n",
              "4  f7c4243c7fe1938f181bec41a392bdeb  ...                sports_leisure\n",
              "\n",
              "[5 rows x 22 columns]"
            ]
          },
          "metadata": {
            "tags": []
          },
          "execution_count": 55
        }
      ]
    },
    {
      "cell_type": "code",
      "metadata": {
        "ExecuteTime": {
          "end_time": "2020-09-20T16:24:02.053712Z",
          "start_time": "2020-09-20T16:24:01.845284Z"
        },
        "id": "j3JrqZb9P6-2"
      },
      "source": [
        "# Take only top-20 categories with highest revenue\n",
        "popular_categories = list(cat_num[\"product_category_name_english\"].head(20))\n",
        "pop_review_item_cat_merge = review_item_cat_merge[review_item_cat_merge[\"product_category_name_english\"].isin(popular_categories)]"
      ],
      "execution_count": 61,
      "outputs": []
    },
    {
      "cell_type": "code",
      "metadata": {
        "id": "Iddnk-cRtwxG",
        "outputId": "6625373a-6595-499b-992d-7ced66e731da",
        "colab": {
          "base_uri": "https://localhost:8080/",
          "height": 1000
        }
      },
      "source": [
        "plt.figure(figsize=(15,10))\n",
        "plt.title(\"Boxplot of Product Rating (Top-20 Categories with Highest Revenue)\")\n",
        "plot = sns.boxplot(x=\"product_category_name_english\", y = \"review_score\", data=pop_review_item_cat_merge)\n",
        "plot.set_xticklabels(rotation=45, labels=popular_categories)"
      ],
      "execution_count": 63,
      "outputs": [
        {
          "output_type": "execute_result",
          "data": {
            "text/plain": [
              "[Text(0, 0, 'health_beauty'),\n",
              " Text(0, 0, 'watches_gifts'),\n",
              " Text(0, 0, 'bed_bath_table'),\n",
              " Text(0, 0, 'sports_leisure'),\n",
              " Text(0, 0, 'computers_accessories'),\n",
              " Text(0, 0, 'furniture_decor'),\n",
              " Text(0, 0, 'cool_stuff'),\n",
              " Text(0, 0, 'housewares'),\n",
              " Text(0, 0, 'auto'),\n",
              " Text(0, 0, 'garden_tools'),\n",
              " Text(0, 0, 'toys'),\n",
              " Text(0, 0, 'baby'),\n",
              " Text(0, 0, 'perfumery'),\n",
              " Text(0, 0, 'telephony'),\n",
              " Text(0, 0, 'office_furniture'),\n",
              " Text(0, 0, 'stationery'),\n",
              " Text(0, 0, 'computers'),\n",
              " Text(0, 0, 'pet_shop'),\n",
              " Text(0, 0, 'musical_instruments'),\n",
              " Text(0, 0, 'small_appliances')]"
            ]
          },
          "metadata": {
            "tags": []
          },
          "execution_count": 63
        },
        {
          "output_type": "display_data",
          "data": {
            "image/png": "[encoded data removed]",
            "text/plain": [
              "<Figure size 1080x720 with 1 Axes>"
            ]
          },
          "metadata": {
            "tags": [],
            "needs_background": "light"
          }
        }
      ]
    },
    {
      "cell_type": "markdown",
      "metadata": {
        "id": "-1L3DgMUvV5V"
      },
      "source": [
        "Based on the data, we could give an insight to stakeholder that we have to evaluate musical instrument product because they have a value less than another product categories."
      ]
    },
    {
      "cell_type": "markdown",
      "metadata": {
        "id": "ZgOvZ_lRv2_S"
      },
      "source": [
        "# **Where do our customers live?**"
      ]
    },
    {
      "cell_type": "code",
      "metadata": {
        "id": "qA6T7Cyuup-G",
        "outputId": "46ff4eef-484a-48e0-b694-db836b0586f6",
        "colab": {
          "base_uri": "https://localhost:8080/",
          "height": 197
        }
      },
      "source": [
        "olist_customers.head()"
      ],
      "execution_count": 64,
      "outputs": [
        {
          "output_type": "execute_result",
          "data": {
            "text/html": [
              "<div>\n",
              "<style scoped>\n",
              "    .dataframe tbody tr th:only-of-type {\n",
              "        vertical-align: middle;\n",
              "    }\n",
              "\n",
              "    .dataframe tbody tr th {\n",
              "        vertical-align: top;\n",
              "    }\n",
              "\n",
              "    .dataframe thead th {\n",
              "        text-align: right;\n",
              "    }\n",
              "</style>\n",
              "<table border=\"1\" class=\"dataframe\">\n",
              "  <thead>\n",
              "    <tr style=\"text-align: right;\">\n",
              "      <th></th>\n",
              "      <th>customer_id</th>\n",
              "      <th>customer_unique_id</th>\n",
              "      <th>customer_zip_code_prefix</th>\n",
              "      <th>customer_city</th>\n",
              "      <th>customer_state</th>\n",
              "    </tr>\n",
              "  </thead>\n",
              "  <tbody>\n",
              "    <tr>\n",
              "      <th>0</th>\n",
              "      <td>06b8999e2fba1a1fbc88172c00ba8bc7</td>\n",
              "      <td>861eff4711a542e4b93843c6dd7febb0</td>\n",
              "      <td>14409</td>\n",
              "      <td>franca</td>\n",
              "      <td>SP</td>\n",
              "    </tr>\n",
              "    <tr>\n",
              "      <th>1</th>\n",
              "      <td>18955e83d337fd6b2def6b18a428ac77</td>\n",
              "      <td>290c77bc529b7ac935b93aa66c333dc3</td>\n",
              "      <td>9790</td>\n",
              "      <td>sao bernardo do campo</td>\n",
              "      <td>SP</td>\n",
              "    </tr>\n",
              "    <tr>\n",
              "      <th>2</th>\n",
              "      <td>4e7b3e00288586ebd08712fdd0374a03</td>\n",
              "      <td>060e732b5b29e8181a18229c7b0b2b5e</td>\n",
              "      <td>1151</td>\n",
              "      <td>sao paulo</td>\n",
              "      <td>SP</td>\n",
              "    </tr>\n",
              "    <tr>\n",
              "      <th>3</th>\n",
              "      <td>b2b6027bc5c5109e529d4dc6358b12c3</td>\n",
              "      <td>259dac757896d24d7702b9acbbff3f3c</td>\n",
              "      <td>8775</td>\n",
              "      <td>mogi das cruzes</td>\n",
              "      <td>SP</td>\n",
              "    </tr>\n",
              "    <tr>\n",
              "      <th>4</th>\n",
              "      <td>4f2d8ab171c80ec8364f7c12e35b23ad</td>\n",
              "      <td>345ecd01c38d18a9036ed96c73b8d066</td>\n",
              "      <td>13056</td>\n",
              "      <td>campinas</td>\n",
              "      <td>SP</td>\n",
              "    </tr>\n",
              "  </tbody>\n",
              "</table>\n",
              "</div>"
            ],
            "text/plain": [
              "                        customer_id  ... customer_state\n",
              "0  06b8999e2fba1a1fbc88172c00ba8bc7  ...             SP\n",
              "1  18955e83d337fd6b2def6b18a428ac77  ...             SP\n",
              "2  4e7b3e00288586ebd08712fdd0374a03  ...             SP\n",
              "3  b2b6027bc5c5109e529d4dc6358b12c3  ...             SP\n",
              "4  4f2d8ab171c80ec8364f7c12e35b23ad  ...             SP\n",
              "\n",
              "[5 rows x 5 columns]"
            ]
          },
          "metadata": {
            "tags": []
          },
          "execution_count": 64
        }
      ]
    },
    {
      "cell_type": "code",
      "metadata": {
        "id": "BbXuPYy_wAGC",
        "outputId": "e179b246-85fb-4639-b06b-eb0548811ae9",
        "colab": {
          "base_uri": "https://localhost:8080/",
          "height": 436
        }
      },
      "source": [
        "customer_count = olist_customers.groupby(\"customer_city\").count()\n",
        "customer_count"
      ],
      "execution_count": 69,
      "outputs": [
        {
          "output_type": "execute_result",
          "data": {
            "text/html": [
              "<div>\n",
              "<style scoped>\n",
              "    .dataframe tbody tr th:only-of-type {\n",
              "        vertical-align: middle;\n",
              "    }\n",
              "\n",
              "    .dataframe tbody tr th {\n",
              "        vertical-align: top;\n",
              "    }\n",
              "\n",
              "    .dataframe thead th {\n",
              "        text-align: right;\n",
              "    }\n",
              "</style>\n",
              "<table border=\"1\" class=\"dataframe\">\n",
              "  <thead>\n",
              "    <tr style=\"text-align: right;\">\n",
              "      <th></th>\n",
              "      <th>customer_id</th>\n",
              "      <th>customer_unique_id</th>\n",
              "      <th>customer_zip_code_prefix</th>\n",
              "      <th>customer_state</th>\n",
              "    </tr>\n",
              "    <tr>\n",
              "      <th>customer_city</th>\n",
              "      <th></th>\n",
              "      <th></th>\n",
              "      <th></th>\n",
              "      <th></th>\n",
              "    </tr>\n",
              "  </thead>\n",
              "  <tbody>\n",
              "    <tr>\n",
              "      <th>abadia dos dourados</th>\n",
              "      <td>3</td>\n",
              "      <td>3</td>\n",
              "      <td>3</td>\n",
              "      <td>3</td>\n",
              "    </tr>\n",
              "    <tr>\n",
              "      <th>abadiania</th>\n",
              "      <td>1</td>\n",
              "      <td>1</td>\n",
              "      <td>1</td>\n",
              "      <td>1</td>\n",
              "    </tr>\n",
              "    <tr>\n",
              "      <th>abaete</th>\n",
              "      <td>12</td>\n",
              "      <td>12</td>\n",
              "      <td>12</td>\n",
              "      <td>12</td>\n",
              "    </tr>\n",
              "    <tr>\n",
              "      <th>abaetetuba</th>\n",
              "      <td>11</td>\n",
              "      <td>11</td>\n",
              "      <td>11</td>\n",
              "      <td>11</td>\n",
              "    </tr>\n",
              "    <tr>\n",
              "      <th>abaiara</th>\n",
              "      <td>2</td>\n",
              "      <td>2</td>\n",
              "      <td>2</td>\n",
              "      <td>2</td>\n",
              "    </tr>\n",
              "    <tr>\n",
              "      <th>...</th>\n",
              "      <td>...</td>\n",
              "      <td>...</td>\n",
              "      <td>...</td>\n",
              "      <td>...</td>\n",
              "    </tr>\n",
              "    <tr>\n",
              "      <th>xinguara</th>\n",
              "      <td>9</td>\n",
              "      <td>9</td>\n",
              "      <td>9</td>\n",
              "      <td>9</td>\n",
              "    </tr>\n",
              "    <tr>\n",
              "      <th>xique-xique</th>\n",
              "      <td>3</td>\n",
              "      <td>3</td>\n",
              "      <td>3</td>\n",
              "      <td>3</td>\n",
              "    </tr>\n",
              "    <tr>\n",
              "      <th>zacarias</th>\n",
              "      <td>2</td>\n",
              "      <td>2</td>\n",
              "      <td>2</td>\n",
              "      <td>2</td>\n",
              "    </tr>\n",
              "    <tr>\n",
              "      <th>ze doca</th>\n",
              "      <td>5</td>\n",
              "      <td>5</td>\n",
              "      <td>5</td>\n",
              "      <td>5</td>\n",
              "    </tr>\n",
              "    <tr>\n",
              "      <th>zortea</th>\n",
              "      <td>2</td>\n",
              "      <td>2</td>\n",
              "      <td>2</td>\n",
              "      <td>2</td>\n",
              "    </tr>\n",
              "  </tbody>\n",
              "</table>\n",
              "<p>4119 rows × 4 columns</p>\n",
              "</div>"
            ],
            "text/plain": [
              "                     customer_id  ...  customer_state\n",
              "customer_city                     ...                \n",
              "abadia dos dourados            3  ...               3\n",
              "abadiania                      1  ...               1\n",
              "abaete                        12  ...              12\n",
              "abaetetuba                    11  ...              11\n",
              "abaiara                        2  ...               2\n",
              "...                          ...  ...             ...\n",
              "xinguara                       9  ...               9\n",
              "xique-xique                    3  ...               3\n",
              "zacarias                       2  ...               2\n",
              "ze doca                        5  ...               5\n",
              "zortea                         2  ...               2\n",
              "\n",
              "[4119 rows x 4 columns]"
            ]
          },
          "metadata": {
            "tags": []
          },
          "execution_count": 69
        }
      ]
    },
    {
      "cell_type": "code",
      "metadata": {
        "id": "PBsgYHwVwRPx",
        "outputId": "15eac709-b172-4692-e20f-7e5ceac7da38",
        "colab": {
          "base_uri": "https://localhost:8080/",
          "height": 197
        }
      },
      "source": [
        "customer_count.reset_index(inplace=True)\n",
        "customer_count.head()"
      ],
      "execution_count": 70,
      "outputs": [
        {
          "output_type": "execute_result",
          "data": {
            "text/html": [
              "<div>\n",
              "<style scoped>\n",
              "    .dataframe tbody tr th:only-of-type {\n",
              "        vertical-align: middle;\n",
              "    }\n",
              "\n",
              "    .dataframe tbody tr th {\n",
              "        vertical-align: top;\n",
              "    }\n",
              "\n",
              "    .dataframe thead th {\n",
              "        text-align: right;\n",
              "    }\n",
              "</style>\n",
              "<table border=\"1\" class=\"dataframe\">\n",
              "  <thead>\n",
              "    <tr style=\"text-align: right;\">\n",
              "      <th></th>\n",
              "      <th>customer_city</th>\n",
              "      <th>customer_id</th>\n",
              "      <th>customer_unique_id</th>\n",
              "      <th>customer_zip_code_prefix</th>\n",
              "      <th>customer_state</th>\n",
              "    </tr>\n",
              "  </thead>\n",
              "  <tbody>\n",
              "    <tr>\n",
              "      <th>0</th>\n",
              "      <td>abadia dos dourados</td>\n",
              "      <td>3</td>\n",
              "      <td>3</td>\n",
              "      <td>3</td>\n",
              "      <td>3</td>\n",
              "    </tr>\n",
              "    <tr>\n",
              "      <th>1</th>\n",
              "      <td>abadiania</td>\n",
              "      <td>1</td>\n",
              "      <td>1</td>\n",
              "      <td>1</td>\n",
              "      <td>1</td>\n",
              "    </tr>\n",
              "    <tr>\n",
              "      <th>2</th>\n",
              "      <td>abaete</td>\n",
              "      <td>12</td>\n",
              "      <td>12</td>\n",
              "      <td>12</td>\n",
              "      <td>12</td>\n",
              "    </tr>\n",
              "    <tr>\n",
              "      <th>3</th>\n",
              "      <td>abaetetuba</td>\n",
              "      <td>11</td>\n",
              "      <td>11</td>\n",
              "      <td>11</td>\n",
              "      <td>11</td>\n",
              "    </tr>\n",
              "    <tr>\n",
              "      <th>4</th>\n",
              "      <td>abaiara</td>\n",
              "      <td>2</td>\n",
              "      <td>2</td>\n",
              "      <td>2</td>\n",
              "      <td>2</td>\n",
              "    </tr>\n",
              "  </tbody>\n",
              "</table>\n",
              "</div>"
            ],
            "text/plain": [
              "         customer_city  customer_id  ...  customer_zip_code_prefix  customer_state\n",
              "0  abadia dos dourados            3  ...                         3               3\n",
              "1            abadiania            1  ...                         1               1\n",
              "2               abaete           12  ...                        12              12\n",
              "3           abaetetuba           11  ...                        11              11\n",
              "4              abaiara            2  ...                         2               2\n",
              "\n",
              "[5 rows x 5 columns]"
            ]
          },
          "metadata": {
            "tags": []
          },
          "execution_count": 70
        }
      ]
    },
    {
      "cell_type": "code",
      "metadata": {
        "id": "8JWkX9Qcwn52",
        "outputId": "d1d03e4e-1391-47df-ac12-0095ea2f713e",
        "colab": {
          "base_uri": "https://localhost:8080/",
          "height": 197
        }
      },
      "source": [
        "customer_count.sort_values(\"customer_unique_id\", ascending=False, inplace=True)\n",
        "customer_count.head()"
      ],
      "execution_count": 73,
      "outputs": [
        {
          "output_type": "execute_result",
          "data": {
            "text/html": [
              "<div>\n",
              "<style scoped>\n",
              "    .dataframe tbody tr th:only-of-type {\n",
              "        vertical-align: middle;\n",
              "    }\n",
              "\n",
              "    .dataframe tbody tr th {\n",
              "        vertical-align: top;\n",
              "    }\n",
              "\n",
              "    .dataframe thead th {\n",
              "        text-align: right;\n",
              "    }\n",
              "</style>\n",
              "<table border=\"1\" class=\"dataframe\">\n",
              "  <thead>\n",
              "    <tr style=\"text-align: right;\">\n",
              "      <th></th>\n",
              "      <th>customer_city</th>\n",
              "      <th>customer_id</th>\n",
              "      <th>customer_unique_id</th>\n",
              "      <th>customer_zip_code_prefix</th>\n",
              "      <th>customer_state</th>\n",
              "    </tr>\n",
              "  </thead>\n",
              "  <tbody>\n",
              "    <tr>\n",
              "      <th>3597</th>\n",
              "      <td>sao paulo</td>\n",
              "      <td>15540</td>\n",
              "      <td>15540</td>\n",
              "      <td>15540</td>\n",
              "      <td>15540</td>\n",
              "    </tr>\n",
              "    <tr>\n",
              "      <th>3155</th>\n",
              "      <td>rio de janeiro</td>\n",
              "      <td>6882</td>\n",
              "      <td>6882</td>\n",
              "      <td>6882</td>\n",
              "      <td>6882</td>\n",
              "    </tr>\n",
              "    <tr>\n",
              "      <th>453</th>\n",
              "      <td>belo horizonte</td>\n",
              "      <td>2773</td>\n",
              "      <td>2773</td>\n",
              "      <td>2773</td>\n",
              "      <td>2773</td>\n",
              "    </tr>\n",
              "    <tr>\n",
              "      <th>558</th>\n",
              "      <td>brasilia</td>\n",
              "      <td>2131</td>\n",
              "      <td>2131</td>\n",
              "      <td>2131</td>\n",
              "      <td>2131</td>\n",
              "    </tr>\n",
              "    <tr>\n",
              "      <th>1143</th>\n",
              "      <td>curitiba</td>\n",
              "      <td>1521</td>\n",
              "      <td>1521</td>\n",
              "      <td>1521</td>\n",
              "      <td>1521</td>\n",
              "    </tr>\n",
              "  </tbody>\n",
              "</table>\n",
              "</div>"
            ],
            "text/plain": [
              "       customer_city  customer_id  ...  customer_zip_code_prefix  customer_state\n",
              "3597       sao paulo        15540  ...                     15540           15540\n",
              "3155  rio de janeiro         6882  ...                      6882            6882\n",
              "453   belo horizonte         2773  ...                      2773            2773\n",
              "558         brasilia         2131  ...                      2131            2131\n",
              "1143        curitiba         1521  ...                      1521            1521\n",
              "\n",
              "[5 rows x 5 columns]"
            ]
          },
          "metadata": {
            "tags": []
          },
          "execution_count": 73
        }
      ]
    },
    {
      "cell_type": "code",
      "metadata": {
        "id": "3klExYHNw_Rn",
        "outputId": "790730bf-6afc-474e-909c-914c1bffd061",
        "colab": {
          "base_uri": "https://localhost:8080/",
          "height": 640
        }
      },
      "source": [
        "plt.figure(figsize=(15,10))\n",
        "plt.title(\"Number of Customer by City\")\n",
        "sns.barplot(x=\"customer_unique_id\", y=\"customer_city\",orient=\"h\",  data=customer_count.head(20))"
      ],
      "execution_count": 80,
      "outputs": [
        {
          "output_type": "execute_result",
          "data": {
            "text/plain": [
              "<matplotlib.axes._subplots.AxesSubplot at 0x7fa471722828>"
            ]
          },
          "metadata": {
            "tags": []
          },
          "execution_count": 80
        },
        {
          "output_type": "display_data",
          "data": {
            "image/png": "[encoded data removed]",
            "text/plain": [
              "<Figure size 1080x720 with 1 Axes>"
            ]
          },
          "metadata": {
            "tags": [],
            "needs_background": "light"
          }
        }
      ]
    },
    {
      "cell_type": "code",
      "metadata": {
        "id": "9Y6a_bMbyfVz"
      },
      "source": [
        ""
      ],
      "execution_count": null,
      "outputs": []
    }
  ]
}